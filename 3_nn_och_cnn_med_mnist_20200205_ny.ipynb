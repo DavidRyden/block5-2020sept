{
 "cells": [
  {
   "cell_type": "markdown",
   "metadata": {},
   "source": [
    "## A. Grundläggande neuralt nätverk med MNIST data setet\n",
    "\n",
    "Ett av de första fallen där Neurala nätverk visade sig effektiva och välpresterande var vid igenkänning av handskrivna Postkoder för  den Amerikanska Posten. Nätverket som kallades LeNet skapades av Yann Lecun på 1990-talet.\n",
    "\n",
    "I denna övning ska vi lära ett neuralt nätverk att klassificera handskriva siffror korrekt. Övningen är en typisk första övning inom neurala nätverk, hämtad från boken \"Deep Learning with Python\" av Francois Chollet som även byggt Keras. Rekommenderas för den som vill gräva djupare!\n",
    "\n",
    "\n",
    "Boken \"Deep Learning with Python\": https://www.manning.com/books/deep-learning-with-python?a_aid=keras&a_bid=76564dff\n",
    "\n",
    "Github med tillhörande notebooks: https://github.com/fchollet/deep-learning-with-python-notebooks\n",
    "\n",
    "\n",
    "#### Urval av data från MNIST-datasetet\n",
    "![](https://www.researchgate.net/profile/Steven_Young11/publication/306056875/figure/fig1/AS:393921575309346@1470929630835/Example-images-from-the-MNIST-dataset.png)\n",
    "\n"
   ]
  },
  {
   "cell_type": "markdown",
   "metadata": {},
   "source": [
    "MNIST-datasetet består av 70 000 bilder på handskrivna siffror. Namnet MNIST, Modified National Institute of Standards and Technology, kommer från institutet som skapade data setet med ett M tillagt då man modifierat det ursprungliga NIST-datasetet\n",
    "\n",
    "Bilderna består av handskrivna tal, från 0 till och med 9, i gråskala och med enbart 28x28 pixlar"
   ]
  },
  {
   "cell_type": "markdown",
   "metadata": {},
   "source": [
    " "
   ]
  },
  {
   "cell_type": "markdown",
   "metadata": {},
   "source": [
    " #### Hjälpfunktioner\n",
    "\n",
    "- Används senare för att plotta modellutvärdering"
   ]
  },
  {
   "cell_type": "code",
   "execution_count": 1,
   "metadata": {},
   "outputs": [],
   "source": [
    "def plot_training(hist):\n",
    "    \n",
    "    print(\"accuracy, train: \", hist['accuracy'][-1])\n",
    "    print(\"accuracy, validation: \", hist['val_accuracy'][-1])\n",
    "    \n",
    "    # Credd : https://janakiev.com/notebooks/keras-iris/\n",
    "    # Plot training & validation accuracy values\n",
    "    plt.plot(hist['accuracy'])\n",
    "    plt.plot(hist['val_accuracy'])\n",
    "    plt.title('Model accuracy')\n",
    "    plt.ylabel('Accuracy')\n",
    "    plt.xlabel('Epoch')\n",
    "    plt.legend(['Train', 'Validation'], loc='upper left')\n",
    "    plt.show()\n",
    "\n",
    "    # Plot training & validation loss values\n",
    "    plt.plot(hist['loss'])\n",
    "    plt.plot(hist['val_loss'])\n",
    "    plt.title('Model loss')\n",
    "    plt.ylabel('Loss')\n",
    "    plt.xlabel('Epoch')\n",
    "    plt.legend(['Train', 'Validation'], loc='upper left')\n",
    "    plt.show()"
   ]
  },
  {
   "cell_type": "markdown",
   "metadata": {},
   "source": [
    " "
   ]
  },
  {
   "cell_type": "markdown",
   "metadata": {},
   "source": [
    "#### Import av bibliotek \n",
    "\n",
    " Vi importerar Keras, som i sin tur använder TensorFlow som backend"
   ]
  },
  {
   "cell_type": "code",
   "execution_count": 2,
   "metadata": {},
   "outputs": [],
   "source": [
    "import tensorflow.keras as keras\n"
   ]
  },
  {
   "cell_type": "markdown",
   "metadata": {},
   "source": [
    "### Importera data\n",
    "\n",
    "MNIST är ett standard data set, till den grad att det redan finns att hämta direkt från Keras!\n",
    "\n",
    "Vi skapar här 4 stycken arrayer:\n",
    "- train_images, träningsdata bestående av 60 000 bilder med 28x28 pixlar\n",
    "- train_labels, 60 000 träningsetiketter som berättar vilken siffra träningsdatat ska representera\n",
    "\n",
    "\n",
    "- test_images, 10 000 bilder som används för att testa modellen\n",
    "- test_labels, 10 000 etiketter fför att testa modellen"
   ]
  },
  {
   "cell_type": "code",
   "execution_count": 3,
   "metadata": {},
   "outputs": [
    {
     "name": "stderr",
     "output_type": "stream",
     "text": [
      "Using TensorFlow backend.\n"
     ]
    }
   ],
   "source": [
    "from keras.datasets import mnist\n",
    "\n",
    "(train_images, train_labels), (test_images, test_labels) = mnist.load_data()"
   ]
  },
  {
   "cell_type": "markdown",
   "metadata": {},
   "source": [
    " "
   ]
  },
  {
   "cell_type": "markdown",
   "metadata": {},
   "source": [
    " "
   ]
  },
  {
   "cell_type": "markdown",
   "metadata": {},
   "source": [
    "Träningsdatat består alltså av 60 000 bilder som alla representeras av en matris med 28 kolumner och 28 rader"
   ]
  },
  {
   "cell_type": "code",
   "execution_count": 4,
   "metadata": {},
   "outputs": [
    {
     "data": {
      "text/plain": [
       "(60000, 28, 28)"
      ]
     },
     "execution_count": 4,
     "metadata": {},
     "output_type": "execute_result"
    }
   ],
   "source": [
    "train_images.shape"
   ]
  },
  {
   "cell_type": "markdown",
   "metadata": {},
   "source": [
    "train_labels består av en vektor med 60 000 rader, där varje rad säger vad train_image ska representera för siffra mellan 0-9"
   ]
  },
  {
   "cell_type": "code",
   "execution_count": 5,
   "metadata": {},
   "outputs": [
    {
     "data": {
      "text/plain": [
       "(60000,)"
      ]
     },
     "execution_count": 5,
     "metadata": {},
     "output_type": "execute_result"
    }
   ],
   "source": [
    "train_labels.shape"
   ]
  },
  {
   "cell_type": "markdown",
   "metadata": {},
   "source": [
    "### Första träningsbilden\n",
    "\n",
    "Tittar vi enbart på den första bilden i train_images,  train_images[0],  så får vi grepp om hur en bild representeras:\n",
    "\n",
    "- 28 kolumner och 28 rader\n",
    "- De flesta celler är 0, vilket innebär att de är svarta\n",
    "- Cellerna i mitten symboliserar i detta fall en handskriven femma, desto närmare värdet 255 desto vitare är pixeln \n",
    "\n",
    "#### Exempel på första bilden"
   ]
  },
  {
   "cell_type": "code",
   "execution_count": 6,
   "metadata": {
    "scrolled": true
   },
   "outputs": [],
   "source": [
    "#print (train_images[0] )"
   ]
  },
  {
   "cell_type": "markdown",
   "metadata": {},
   "source": [
    "\n",
    "I en formaterad version, blir det tydligt vad vår 28x28-matris  representerar:\n",
    "\n",
    "![](https://github.com/DavidRyden/pics/blob/master/picture%20of%205.PNG?raw=true)"
   ]
  },
  {
   "cell_type": "markdown",
   "metadata": {},
   "source": [
    "  "
   ]
  },
  {
   "cell_type": "markdown",
   "metadata": {},
   "source": [
    "  "
   ]
  },
  {
   "cell_type": "markdown",
   "metadata": {},
   "source": [
    "  "
   ]
  },
  {
   "cell_type": "markdown",
   "metadata": {},
   "source": [
    "  "
   ]
  },
  {
   "cell_type": "markdown",
   "metadata": {},
   "source": [
    "  "
   ]
  },
  {
   "cell_type": "markdown",
   "metadata": {},
   "source": [
    "  ### test_images och test_labels\n",
    "    \n",
    "  - test_images består av 10 000 matris-representationer av handskriva siffror på precis på samma sätt som train_images\n",
    "  \n",
    "  - test_labels ger svaren på dessa test_images\n",
    "  \n",
    "  - Nedan är de två första observationerna"
   ]
  },
  {
   "cell_type": "code",
   "execution_count": 7,
   "metadata": {},
   "outputs": [
    {
     "data": {
      "image/png": "[encoded data removed]",
      "text/plain": [
       "<Figure size 432x288 with 1 Axes>"
      ]
     },
     "metadata": {
      "needs_background": "light"
     },
     "output_type": "display_data"
    },
    {
     "name": "stdout",
     "output_type": "stream",
     "text": [
      "Test image nr 0 föreställer:  7 \n",
      " \n",
      "\n"
     ]
    },
    {
     "data": {
      "image/png": "[encoded data removed]",
      "text/plain": [
       "<Figure size 432x288 with 1 Axes>"
      ]
     },
     "metadata": {
      "needs_background": "light"
     },
     "output_type": "display_data"
    },
    {
     "name": "stdout",
     "output_type": "stream",
     "text": [
      "Test image nr 1 föreställer:  2 \n",
      " \n",
      "\n"
     ]
    }
   ],
   "source": [
    "import matplotlib.pyplot as plt\n",
    "%matplotlib inline\n",
    "\n",
    "\n",
    "plt.imshow(test_images[0], cmap='gray')\n",
    "plt.show()\n",
    "print(\"Test image nr 0 föreställer: \",test_labels[0] , \"\\n \\n\")\n",
    "\n",
    "plt.imshow(test_images[1], cmap='gray')\n",
    "plt.show()\n",
    "print(\"Test image nr 1 föreställer: \",test_labels[1], \"\\n \\n\")\n",
    "\n"
   ]
  },
  {
   "cell_type": "markdown",
   "metadata": {},
   "source": [
    "  "
   ]
  },
  {
   "cell_type": "markdown",
   "metadata": {},
   "source": [
    "  "
   ]
  },
  {
   "cell_type": "markdown",
   "metadata": {},
   "source": [
    "  ## Skapa neuralt nätverk"
   ]
  },
  {
   "cell_type": "markdown",
   "metadata": {},
   "source": [
    "Vi använder datat till vår neurala nätverks-modell som vilken annan modell:\n",
    "\n",
    "1. Vi låter vårt neurala nätverk träna på `train_images` och `train_labels`\n",
    "2. Vi verifierar vår modells prediktioner med hjälp av `test_images` och `test_labels`"
   ]
  },
  {
   "cell_type": "markdown",
   "metadata": {},
   "source": [
    "### Grundläggande struktur\n",
    "\n",
    "Vi skapar här en grundläggande modellarkitektur, väldigt likt de vi tidigare skapat:\n",
    "\n",
    "- Sequential()\n",
    "\n",
    "\n",
    "- Ett ReLu-aktiverat lager med 512 neuroner\n",
    "\n",
    "\n",
    "- Vi anger hur vår input ser ut med \"(28 * 28,)\". Vi \"plattar\" alltså till bilderna: istället för att se bilderna som 28 kolumner och 28 rader, ser vi de som 1 kolumn med 784 (28x28) rader \n",
    "\n",
    "\n",
    "\n",
    "- I vårt sista output-lager anger vi 10 neuroner och \"softmax\" aktivering då vi vill ha prediktioner för 10 klasser \n"
   ]
  },
  {
   "cell_type": "code",
   "execution_count": 8,
   "metadata": {},
   "outputs": [],
   "source": [
    "from tensorflow.keras import models\n",
    "from tensorflow.keras import layers\n",
    "\n",
    "network = models.Sequential()\n",
    "network.add(layers.Dense(512, activation='relu', input_shape=(28 * 28,)))\n",
    "\n",
    "# Output-lager\n",
    "network.add(layers.Dense(10, activation='softmax'))"
   ]
  },
  {
   "cell_type": "markdown",
   "metadata": {},
   "source": [
    "\n"
   ]
  },
  {
   "cell_type": "markdown",
   "metadata": {},
   "source": [
    "\n"
   ]
  },
  {
   "cell_type": "markdown",
   "metadata": {},
   "source": [
    "\n"
   ]
  },
  {
   "cell_type": "markdown",
   "metadata": {},
   "source": [
    "\n",
    "### Vidare konfiguration\n",
    "\n",
    "Vi använder oss av Stochastic gradient descent (sgd), categorical_crossentropy och accuracy som tidigare\n"
   ]
  },
  {
   "cell_type": "code",
   "execution_count": 9,
   "metadata": {},
   "outputs": [],
   "source": [
    "network.compile(optimizer='sgd', #rmsprop\n",
    "                loss='categorical_crossentropy',\n",
    "                metrics=['accuracy'])"
   ]
  },
  {
   "cell_type": "markdown",
   "metadata": {},
   "source": [
    " "
   ]
  },
  {
   "cell_type": "markdown",
   "metadata": {},
   "source": [
    " "
   ]
  },
  {
   "cell_type": "markdown",
   "metadata": {},
   "source": [
    "\n",
    "### Transformera input-data\n",
    "\n",
    "Vi såg tidigare att input data innehöll celler med värden mellan 0-255. Neurala nätverk konvergerar fortare om vi normaliserar input mellan intervallet 0 och 1. Vi transformerar därför datat genom att dividera alla celler med 255.\n",
    "\n",
    "- Nu betyder 0 fortfarande svart, men det högsta värdet är 1 vilket nu står för helt vitt\n",
    "\n",
    "Vi förändrar även data från än array med formen (60000,28,28) till (60000, 28 * 28). Vi plattar alltså ut input från att en bild bestått av 28 kolumner och 28 rader till att den blir endast en kolumn med 784 rader"
   ]
  },
  {
   "cell_type": "code",
   "execution_count": 10,
   "metadata": {},
   "outputs": [],
   "source": [
    "train_images = train_images.reshape((60000, 28 * 28))\n",
    "train_images = train_images.astype('float32') / 255\n",
    "\n",
    "test_images = test_images.reshape((10000, 28 * 28))\n",
    "test_images = test_images.astype('float32') / 255"
   ]
  },
  {
   "cell_type": "markdown",
   "metadata": {},
   "source": [
    " "
   ]
  },
  {
   "cell_type": "markdown",
   "metadata": {},
   "source": [
    " "
   ]
  },
  {
   "cell_type": "markdown",
   "metadata": {},
   "source": [
    "### Transformera labels\n",
    "\n",
    "* Vi behöver också transformera våra labels för att nätverket ska kunna hantera dem. Istället för att en observation visar en siffra mellan 0 och 9, blir en observation en array med 10 dummy-variabler\n"
   ]
  },
  {
   "cell_type": "markdown",
   "metadata": {},
   "source": [
    "**train_labels innan transformering**\n",
    "\n",
    "- 60 000 rader och 1 kolumn"
   ]
  },
  {
   "cell_type": "code",
   "execution_count": 11,
   "metadata": {},
   "outputs": [
    {
     "name": "stdout",
     "output_type": "stream",
     "text": [
      "Form: (60000,)\n",
      "\n",
      "De tre första observationerna innan transformering: \n",
      "\n",
      "5\n",
      "0\n",
      "4\n"
     ]
    }
   ],
   "source": [
    "print(\"Form:\",train_labels.shape)\n",
    "\n",
    "print(\"\\nDe tre första observationerna innan transformering: \\n\")\n",
    "print(train_labels[0])\n",
    "print(train_labels[1])\n",
    "print(train_labels[2])"
   ]
  },
  {
   "cell_type": "markdown",
   "metadata": {},
   "source": [
    "**train_labels efter transformering**\n",
    "\n",
    "Vi använder funktionen inbyggda keras-funktionen \"to_categorical\" för att utföra transformationen"
   ]
  },
  {
   "cell_type": "code",
   "execution_count": 12,
   "metadata": {},
   "outputs": [],
   "source": [
    "from tensorflow.keras.utils import to_categorical\n",
    "\n",
    "train_labels = to_categorical(train_labels)\n",
    "test_labels = to_categorical(test_labels)"
   ]
  },
  {
   "cell_type": "markdown",
   "metadata": {},
   "source": [
    "- Nu har våra train_labels istället 60 000 rader och 10 kolumner"
   ]
  },
  {
   "cell_type": "code",
   "execution_count": 13,
   "metadata": {},
   "outputs": [
    {
     "name": "stdout",
     "output_type": "stream",
     "text": [
      "Form: (60000, 10)\n",
      "\n",
      "De tre första observationerna efter transformering: \n",
      "\n",
      "kolumn-namn\n",
      "[0  1  2  3  4  5  6  7  8  9 ]\n",
      "\n",
      "[0. 0. 0. 0. 0. 1. 0. 0. 0. 0.]\n",
      "[1. 0. 0. 0. 0. 0. 0. 0. 0. 0.]\n",
      "[0. 0. 0. 0. 1. 0. 0. 0. 0. 0.]\n"
     ]
    }
   ],
   "source": [
    "print(\"Form:\",train_labels.shape)\n",
    "\n",
    "print(\"\\nDe tre första observationerna efter transformering: \\n\")\n",
    "print(\"kolumn-namn\")\n",
    "print(\"[0  1  2  3  4  5  6  7  8  9 ]\\n\")\n",
    "\n",
    "\n",
    "print(train_labels[0])\n",
    "print(train_labels[1])\n",
    "print(train_labels[2])"
   ]
  },
  {
   "cell_type": "markdown",
   "metadata": {},
   "source": [
    " "
   ]
  },
  {
   "cell_type": "markdown",
   "metadata": {},
   "source": [
    " "
   ]
  },
  {
   "cell_type": "markdown",
   "metadata": {},
   "source": [
    "### Träna nätverket\n",
    "\n",
    "##### Valideringsdata\n",
    " \n",
    "I detta case har vi tillräckligt många observationer för att använda tre data set\n",
    "\n",
    "1. Train (50 000 obs),  att träna på\n",
    "2. Validation (10 000 obs), att validera och försöka generalisera på\n",
    "3. Test (10 000 obs), data vi inte är tillåtna att använda alls förens vi är klara med vår modell\n",
    "\n",
    "\n",
    "\n",
    "- Train och Test har vi redan skapat, Validation skapar vi genom funktionen \"validation_split=1/6\", som samplar 1/6 av träningsdatat\n",
    "\n",
    "- Vi är nu redo att träna modellen!"
   ]
  },
  {
   "cell_type": "code",
   "execution_count": 14,
   "metadata": {
    "scrolled": true
   },
   "outputs": [
    {
     "name": "stdout",
     "output_type": "stream",
     "text": [
      "Train on 50000 samples, validate on 10000 samples\n",
      "Epoch 1/50\n",
      "50000/50000 [==============================] - 3s 51us/sample - loss: 1.1762 - accuracy: 0.7475 - val_loss: 0.6442 - val_accuracy: 0.8676\n",
      "Epoch 2/50\n",
      "50000/50000 [==============================] - 2s 43us/sample - loss: 0.5723 - accuracy: 0.8660 - val_loss: 0.4522 - val_accuracy: 0.8923\n",
      "Epoch 3/50\n",
      "50000/50000 [==============================] - 2s 43us/sample - loss: 0.4557 - accuracy: 0.8838 - val_loss: 0.3848 - val_accuracy: 0.9031\n",
      "Epoch 4/50\n",
      "50000/50000 [==============================] - 2s 43us/sample - loss: 0.4031 - accuracy: 0.8937 - val_loss: 0.3492 - val_accuracy: 0.9094\n",
      "Epoch 5/50\n",
      "50000/50000 [==============================] - 2s 44us/sample - loss: 0.3716 - accuracy: 0.8999 - val_loss: 0.3264 - val_accuracy: 0.9128\n",
      "Epoch 6/50\n",
      "50000/50000 [==============================] - 2s 44us/sample - loss: 0.3493 - accuracy: 0.9054 - val_loss: 0.3096 - val_accuracy: 0.9162\n",
      "Epoch 7/50\n",
      "50000/50000 [==============================] - 2s 44us/sample - loss: 0.3324 - accuracy: 0.9090 - val_loss: 0.2974 - val_accuracy: 0.9176\n",
      "Epoch 8/50\n",
      "50000/50000 [==============================] - 2s 47us/sample - loss: 0.3188 - accuracy: 0.9123 - val_loss: 0.2861 - val_accuracy: 0.9212\n",
      "Epoch 9/50\n",
      "50000/50000 [==============================] - 2s 44us/sample - loss: 0.3070 - accuracy: 0.9152 - val_loss: 0.2773 - val_accuracy: 0.9231\n",
      "Epoch 10/50\n",
      "50000/50000 [==============================] - 2s 45us/sample - loss: 0.2967 - accuracy: 0.9182 - val_loss: 0.2690 - val_accuracy: 0.9250\n",
      "Epoch 11/50\n",
      "50000/50000 [==============================] - 2s 47us/sample - loss: 0.2876 - accuracy: 0.9201 - val_loss: 0.2620 - val_accuracy: 0.9279\n",
      "Epoch 12/50\n",
      "50000/50000 [==============================] - 2s 46us/sample - loss: 0.2794 - accuracy: 0.9227 - val_loss: 0.2551 - val_accuracy: 0.9295\n",
      "Epoch 13/50\n",
      "50000/50000 [==============================] - 2s 45us/sample - loss: 0.2718 - accuracy: 0.9244 - val_loss: 0.2495 - val_accuracy: 0.9310\n",
      "Epoch 14/50\n",
      "50000/50000 [==============================] - 2s 46us/sample - loss: 0.2649 - accuracy: 0.9263 - val_loss: 0.2437 - val_accuracy: 0.9325\n",
      "Epoch 15/50\n",
      "50000/50000 [==============================] - 2s 45us/sample - loss: 0.2583 - accuracy: 0.9287 - val_loss: 0.2383 - val_accuracy: 0.9340\n",
      "Epoch 16/50\n",
      "50000/50000 [==============================] - 2s 45us/sample - loss: 0.2523 - accuracy: 0.9299 - val_loss: 0.2333 - val_accuracy: 0.9348\n",
      "Epoch 17/50\n",
      "50000/50000 [==============================] - 2s 46us/sample - loss: 0.2466 - accuracy: 0.9323 - val_loss: 0.2285 - val_accuracy: 0.9366\n",
      "Epoch 18/50\n",
      "50000/50000 [==============================] - 2s 45us/sample - loss: 0.2410 - accuracy: 0.9334 - val_loss: 0.2247 - val_accuracy: 0.9368\n",
      "Epoch 19/50\n",
      "50000/50000 [==============================] - 2s 46us/sample - loss: 0.2358 - accuracy: 0.9349 - val_loss: 0.2196 - val_accuracy: 0.9392\n",
      "Epoch 20/50\n",
      "50000/50000 [==============================] - 2s 44us/sample - loss: 0.2309 - accuracy: 0.9363 - val_loss: 0.2154 - val_accuracy: 0.9407\n",
      "Epoch 21/50\n",
      "50000/50000 [==============================] - 2s 46us/sample - loss: 0.2261 - accuracy: 0.9374 - val_loss: 0.2119 - val_accuracy: 0.9417\n",
      "Epoch 22/50\n",
      "50000/50000 [==============================] - 2s 46us/sample - loss: 0.2217 - accuracy: 0.9391 - val_loss: 0.2083 - val_accuracy: 0.9431\n",
      "Epoch 23/50\n",
      "50000/50000 [==============================] - 2s 46us/sample - loss: 0.2174 - accuracy: 0.9401 - val_loss: 0.2048 - val_accuracy: 0.9442\n",
      "Epoch 24/50\n",
      "50000/50000 [==============================] - 2s 46us/sample - loss: 0.2133 - accuracy: 0.9414 - val_loss: 0.2020 - val_accuracy: 0.9448\n",
      "Epoch 25/50\n",
      "50000/50000 [==============================] - 2s 47us/sample - loss: 0.2093 - accuracy: 0.9422 - val_loss: 0.1979 - val_accuracy: 0.9469\n",
      "Epoch 26/50\n",
      "50000/50000 [==============================] - 2s 46us/sample - loss: 0.2053 - accuracy: 0.9431 - val_loss: 0.1950 - val_accuracy: 0.9480\n",
      "Epoch 27/50\n",
      "50000/50000 [==============================] - 2s 46us/sample - loss: 0.2016 - accuracy: 0.9440 - val_loss: 0.1917 - val_accuracy: 0.9483\n",
      "Epoch 28/50\n",
      "50000/50000 [==============================] - 2s 46us/sample - loss: 0.1982 - accuracy: 0.9451 - val_loss: 0.1889 - val_accuracy: 0.9493\n",
      "Epoch 29/50\n",
      "50000/50000 [==============================] - 2s 47us/sample - loss: 0.1945 - accuracy: 0.9460 - val_loss: 0.1867 - val_accuracy: 0.9496\n",
      "Epoch 30/50\n",
      "50000/50000 [==============================] - 3s 50us/sample - loss: 0.1912 - accuracy: 0.9469 - val_loss: 0.1833 - val_accuracy: 0.9517\n",
      "Epoch 31/50\n",
      "50000/50000 [==============================] - 2s 49us/sample - loss: 0.1880 - accuracy: 0.9479 - val_loss: 0.1810 - val_accuracy: 0.9514\n",
      "Epoch 32/50\n",
      "50000/50000 [==============================] - 3s 53us/sample - loss: 0.1849 - accuracy: 0.9487 - val_loss: 0.1783 - val_accuracy: 0.9531\n",
      "Epoch 33/50\n",
      "50000/50000 [==============================] - 2s 48us/sample - loss: 0.1818 - accuracy: 0.9495 - val_loss: 0.1763 - val_accuracy: 0.9529\n",
      "Epoch 34/50\n",
      "50000/50000 [==============================] - 2s 47us/sample - loss: 0.1789 - accuracy: 0.9504 - val_loss: 0.1733 - val_accuracy: 0.9538\n",
      "Epoch 35/50\n",
      "50000/50000 [==============================] - 2s 46us/sample - loss: 0.1760 - accuracy: 0.9508 - val_loss: 0.1711 - val_accuracy: 0.9554\n",
      "Epoch 36/50\n",
      "50000/50000 [==============================] - 2s 49us/sample - loss: 0.1732 - accuracy: 0.9514 - val_loss: 0.1686 - val_accuracy: 0.9552\n",
      "Epoch 37/50\n",
      "50000/50000 [==============================] - 3s 57us/sample - loss: 0.1704 - accuracy: 0.9528 - val_loss: 0.1672 - val_accuracy: 0.9553\n",
      "Epoch 38/50\n",
      "50000/50000 [==============================] - 3s 53us/sample - loss: 0.1678 - accuracy: 0.9534 - val_loss: 0.1652 - val_accuracy: 0.9564\n",
      "Epoch 39/50\n",
      "50000/50000 [==============================] - 2s 47us/sample - loss: 0.1653 - accuracy: 0.9537 - val_loss: 0.1625 - val_accuracy: 0.9565\n",
      "Epoch 40/50\n",
      "50000/50000 [==============================] - 2s 49us/sample - loss: 0.1629 - accuracy: 0.9546 - val_loss: 0.1606 - val_accuracy: 0.9574\n",
      "Epoch 41/50\n",
      "50000/50000 [==============================] - 2s 49us/sample - loss: 0.1605 - accuracy: 0.9553 - val_loss: 0.1591 - val_accuracy: 0.9576\n",
      "Epoch 42/50\n",
      "50000/50000 [==============================] - 2s 46us/sample - loss: 0.1581 - accuracy: 0.9560 - val_loss: 0.1569 - val_accuracy: 0.9579\n",
      "Epoch 43/50\n",
      "50000/50000 [==============================] - 2s 47us/sample - loss: 0.1558 - accuracy: 0.9569 - val_loss: 0.1554 - val_accuracy: 0.9586\n",
      "Epoch 44/50\n",
      "50000/50000 [==============================] - 2s 48us/sample - loss: 0.1537 - accuracy: 0.9570 - val_loss: 0.1537 - val_accuracy: 0.9597\n",
      "Epoch 45/50\n",
      "50000/50000 [==============================] - 3s 52us/sample - loss: 0.1514 - accuracy: 0.9579 - val_loss: 0.1518 - val_accuracy: 0.9598\n",
      "Epoch 46/50\n",
      "50000/50000 [==============================] - 3s 52us/sample - loss: 0.1493 - accuracy: 0.9588 - val_loss: 0.1503 - val_accuracy: 0.9604\n",
      "Epoch 47/50\n",
      "50000/50000 [==============================] - 3s 50us/sample - loss: 0.1473 - accuracy: 0.9595 - val_loss: 0.1485 - val_accuracy: 0.9604\n",
      "Epoch 48/50\n",
      "50000/50000 [==============================] - 2s 48us/sample - loss: 0.1452 - accuracy: 0.9597 - val_loss: 0.1474 - val_accuracy: 0.9610\n",
      "Epoch 49/50\n",
      "50000/50000 [==============================] - 2s 47us/sample - loss: 0.1433 - accuracy: 0.9605 - val_loss: 0.1459 - val_accuracy: 0.9616\n",
      "Epoch 50/50\n",
      "50000/50000 [==============================] - 2s 47us/sample - loss: 0.1415 - accuracy: 0.9611 - val_loss: 0.1445 - val_accuracy: 0.9618\n"
     ]
    }
   ],
   "source": [
    "#Proportion av data till valideringsdata (vi vill ha 10 000 observationer)\n",
    "val_prop = 1/6\n",
    "\n",
    "history = network.fit(train_images, train_labels, epochs=50, batch_size=128,  validation_split=val_prop)"
   ]
  },
  {
   "cell_type": "markdown",
   "metadata": {},
   "source": [
    " "
   ]
  },
  {
   "cell_type": "markdown",
   "metadata": {},
   "source": [
    "#### Modellutvärdering\n",
    "\n",
    "- Vi utvärderar nu hur bra modellen tränar på träningsdata och generaliserar på Valideringsdata\n",
    "- Är vi inte nöjda med modellen kan man lägga till fler noder, hidden layers eller t.ex introducera regularisering\n",
    "- När vi sedan är nöjda utvärderar vi modellen en sista gång på test-data\n"
   ]
  },
  {
   "cell_type": "code",
   "execution_count": 15,
   "metadata": {},
   "outputs": [
    {
     "name": "stdout",
     "output_type": "stream",
     "text": [
      "accuracy, train:  0.96106\n",
      "accuracy, validation:  0.9618\n"
     ]
    },
    {
     "data": {
      "image/png": "[encoded data removed]",
      "text/plain": [
       "<Figure size 432x288 with 1 Axes>"
      ]
     },
     "metadata": {
      "needs_background": "light"
     },
     "output_type": "display_data"
    },
    {
     "data": {
      "image/png": "[encoded data removed]",
      "text/plain": [
       "<Figure size 432x288 with 1 Axes>"
      ]
     },
     "metadata": {
      "needs_background": "light"
     },
     "output_type": "display_data"
    }
   ],
   "source": [
    "plot_training(history.history)"
   ]
  },
  {
   "cell_type": "markdown",
   "metadata": {},
   "source": [
    "\n",
    "### Utvärdera på test-data\n",
    "\n",
    "För att undersöka hur väl modellen generaliserar på data den inte tränar på, och vi inte heller försökt optimera generaliserbarheten, utvärderar vi modellen på test-datasetet"
   ]
  },
  {
   "cell_type": "code",
   "execution_count": 16,
   "metadata": {},
   "outputs": [
    {
     "name": "stdout",
     "output_type": "stream",
     "text": [
      "test accuracy: 0.957\n"
     ]
    }
   ],
   "source": [
    "#Predicerar på test-data\n",
    "test_loss, test_acc = network.evaluate(test_images, test_labels, verbose=0)\n",
    "\n",
    "print('test accuracy:', test_acc)"
   ]
  },
  {
   "cell_type": "markdown",
   "metadata": {},
   "source": [
    " "
   ]
  },
  {
   "cell_type": "markdown",
   "metadata": {},
   "source": [
    "### Slutsats\n",
    "\n",
    "På detta testdata får vi en accuracy på nästan 96-97%, alltså att modellen klassificerar 97% av bilderna korrekt.\n",
    "\n",
    "Vi har med ett fåtal rader kod skapat en modell som klassificerar handskrivna siffror korrekt, med väldigt hög träffsäkerhet.\n",
    "\n",
    "Även om detta med dagens mått inte är så imponerande längre, är det värt att komma ihåg att detta var \"state of the art\" för ett decennium sedan, och att vi enkelt kan replikera detta tack vare det open source-community som gjort detta tillgängligt för oss\n",
    "\n",
    "\n",
    "\n"
   ]
  },
  {
   "cell_type": "markdown",
   "metadata": {},
   "source": [
    " "
   ]
  },
  {
   "cell_type": "markdown",
   "metadata": {},
   "source": [
    " "
   ]
  },
  {
   "cell_type": "markdown",
   "metadata": {},
   "source": [
    " ### Är 100% träffsäkerhet önskvärd?\n",
    "\n",
    "Även om vi inte får **100%** träffsäkerhet, kan man ha viss förståelse att modellen klassificerar fel på de observationer den gör.\n",
    "\n",
    "Nedan undersöker vi den observation där vår modell är säker på en felaktig siffra, dvs där prediktionen och sanningen skiljer sig som mest"
   ]
  },
  {
   "cell_type": "code",
   "execution_count": 17,
   "metadata": {},
   "outputs": [],
   "source": [
    "# Predicerar sannolikheter\n",
    "test_pred = network.predict(test_images)\n",
    "# Tar differens mellan prediktion och sanning\n",
    "test_diff = test_pred-test_labels"
   ]
  },
  {
   "cell_type": "code",
   "execution_count": 18,
   "metadata": {
    "scrolled": false
   },
   "outputs": [
    {
     "name": "stdout",
     "output_type": "stream",
     "text": [
      "Observation med störst differens mellan prediktion och sanning är nr :  [2044]\n",
      "\n",
      "\n",
      "Prediktionen är siffran :  [7]  med en säkerhet på: [0.98986804]\n",
      "\n",
      "\n",
      "Sanningen är :  [2]\n",
      "\n",
      "Bilden ser ut såhär:\n"
     ]
    },
    {
     "data": {
      "image/png": "[encoded data removed]",
      "text/plain": [
       "<Figure size 432x288 with 1 Axes>"
      ]
     },
     "metadata": {
      "needs_background": "light"
     },
     "output_type": "display_data"
    }
   ],
   "source": [
    "# Hämtar den observation med störst differens\n",
    "import numpy as np\n",
    "result = np.where(test_diff == np.amax(test_diff))\n",
    "\n",
    "predicted = np.where(test_pred[result[0]] == np.amax(test_pred[result[0]]))\n",
    "\n",
    "print('Observation med störst differens mellan prediktion och sanning är nr : ', result[0])\n",
    "print(\"\\n\")\n",
    "\n",
    "print('Prediktionen är siffran : ', predicted[1],' med en säkerhet på:', test_pred[result[0],predicted[1]]  )\n",
    "print(\"\\n\")\n",
    "print('Sanningen är : ',\n",
    "      np.where(test_labels[result[0]] == np.amax(test_labels[result[0]]))[1])\n",
    "\n",
    "print(\"\\nBilden ser ut såhär:\")\n",
    "plt.imshow(test_images[ result[0] ].reshape(28,28), cmap='gray')\n",
    "plt.show()\n"
   ]
  },
  {
   "cell_type": "markdown",
   "metadata": {},
   "source": [
    "För det mänskliga ögat är det inte uppenbart att detta att vår \"sanning\" är korrekt\n",
    "\n",
    "Skulle modellen lyckas klassificera detta korrekt krävs antingen att\n",
    "\n",
    "- Det faktiskt är väldigt vanligt i indata att man skriver såhär slarvigt \n",
    "- Man låter man modellen överträna till den grad att den på ett nytt dataset skulle felklassificera andra observationer"
   ]
  },
  {
   "cell_type": "markdown",
   "metadata": {},
   "source": [
    " "
   ]
  },
  {
   "cell_type": "markdown",
   "metadata": {},
   "source": [
    " "
   ]
  },
  {
   "cell_type": "markdown",
   "metadata": {},
   "source": [
    " "
   ]
  },
  {
   "cell_type": "markdown",
   "metadata": {},
   "source": [
    " "
   ]
  },
  {
   "cell_type": "markdown",
   "metadata": {},
   "source": [
    "  "
   ]
  },
  {
   "cell_type": "markdown",
   "metadata": {},
   "source": [
    " \n",
    "### Ett ännu bättre exempel - Rabbit vs. duck\n",
    "\n",
    "- Vad vill vi klassificera nedan bild som, kanin eller anka?\n",
    " "
   ]
  },
  {
   "cell_type": "code",
   "execution_count": 10,
   "metadata": {},
   "outputs": [
    {
     "data": {
      "text/html": [
       "\n",
       "        <iframe\n",
       "            width=\"800\"\n",
       "            height=\"550\"\n",
       "            src=\"https://gfycat.com/ifr/FamousGleefulChimpanzee\"\n",
       "            frameborder=\"0\"\n",
       "            allowfullscreen\n",
       "        ></iframe>\n",
       "        "
      ],
      "text/plain": [
       "<IPython.lib.display.IFrame at 0x23e979ef860>"
      ]
     },
     "execution_count": 10,
     "metadata": {},
     "output_type": "execute_result"
    }
   ],
   "source": [
    "from IPython.display import IFrame    \n",
    "IFrame(\"https://gfycat.com/ifr/FamousGleefulChimpanzee\", width=800, height=550)"
   ]
  },
  {
   "cell_type": "markdown",
   "metadata": {},
   "source": [
    " "
   ]
  },
  {
   "cell_type": "markdown",
   "metadata": {},
   "source": [
    " "
   ]
  },
  {
   "cell_type": "markdown",
   "metadata": {},
   "source": [
    " "
   ]
  },
  {
   "cell_type": "markdown",
   "metadata": {},
   "source": [
    " "
   ]
  },
  {
   "cell_type": "markdown",
   "metadata": {},
   "source": [
    "## B. Convolutional Neural Network med MNIST\n",
    "\n",
    "Vi testar nu övningen med Convolutional lager istället Dense-lager\n",
    "\n"
   ]
  },
  {
   "cell_type": "markdown",
   "metadata": {},
   "source": [
    " #### Laddar in mnist-data igen\n",
    "\n",
    "För CNN behöver vi skapa en 4:e dimension. 60000 syftar på våra träningsexempel. 28*28 syftar på antal pixlar i bilden (width*height). Utöver det behöver vi dessutom specificera antalet färgkanaler. Eftersom vi jobbar med svartvita bilder så har vi endast 1 färgkanal (60000, 28, 28, 1). Hade vi däreemot haft en färgbild så hade vi behövt specificera 3 input kanaler i linje med RGB formatet(red, green, blue). Då hade vi behövt skriva x_train_resized = x_train.reshape((60000, 28, 28, 3))\n"
   ]
  },
  {
   "cell_type": "code",
   "execution_count": 17,
   "metadata": {},
   "outputs": [],
   "source": [
    "(x_train, y_train), (x_test, y_test) = mnist.load_data()\n",
    "\n",
    "#För CNN behöver vi skapa en 4:e dimension \n",
    "x_train_resized = x_train.reshape((60000, 28, 28, 1))\n",
    "x_test_resized = x_test.reshape((10000, 28, 28, 1))\n",
    "\n",
    "#Återigen skapar vi dummy-variabler för respektive siffra\n",
    "y_train_labels = to_categorical(y_train)\n",
    "y_test_labels = to_categorical(y_test)"
   ]
  },
  {
   "cell_type": "markdown",
   "metadata": {},
   "source": [
    " #### Modell-arkitektur\n",
    " \n",
    " \n",
    "Vi skapar här en grundläggande modellarkitektur, likt de vi tidigare gått igenom idag:\n",
    "\n",
    "- Alternerar mellan Convolutional Neural Networks och Maxpooling-lager\n",
    "\n",
    "- \"Plattar\" slutligen till vårt nätverk och kör ett Dense-lager\n",
    "\n",
    "\n",
    "- I vårt sista output-lager anger vi 10 neuroner och \"softmax\" aktivering då vi vill ha prediktioner till våra 10 klasser\n"
   ]
  },
  {
   "cell_type": "code",
   "execution_count": 18,
   "metadata": {},
   "outputs": [
    {
     "name": "stdout",
     "output_type": "stream",
     "text": [
      "Model: \"sequential_1\"\n",
      "_________________________________________________________________\n",
      "Layer (type)                 Output Shape              Param #   \n",
      "=================================================================\n",
      "conv2d (Conv2D)              (None, 26, 26, 32)        320       \n",
      "_________________________________________________________________\n",
      "max_pooling2d (MaxPooling2D) (None, 13, 13, 32)        0         \n",
      "_________________________________________________________________\n",
      "conv2d_1 (Conv2D)            (None, 11, 11, 64)        18496     \n",
      "_________________________________________________________________\n",
      "max_pooling2d_1 (MaxPooling2 (None, 5, 5, 64)          0         \n",
      "_________________________________________________________________\n",
      "conv2d_2 (Conv2D)            (None, 3, 3, 64)          36928     \n",
      "_________________________________________________________________\n",
      "flatten (Flatten)            (None, 576)               0         \n",
      "_________________________________________________________________\n",
      "dense_2 (Dense)              (None, 64)                36928     \n",
      "_________________________________________________________________\n",
      "dense_3 (Dense)              (None, 10)                650       \n",
      "=================================================================\n",
      "Total params: 93,322\n",
      "Trainable params: 93,322\n",
      "Non-trainable params: 0\n",
      "_________________________________________________________________\n"
     ]
    }
   ],
   "source": [
    "CNN_model = models.Sequential()\n",
    "CNN_model.add(layers.Conv2D(32, (3, 3), activation='relu', input_shape=(28, 28, 1))) # 28*28 pixlar med 1 kanal (svartvit bild)\n",
    "CNN_model.add(layers.MaxPooling2D((2, 2)))\n",
    "CNN_model.add(layers.Conv2D(64, (3, 3), activation='relu'))\n",
    "CNN_model.add(layers.MaxPooling2D((2, 2)))\n",
    "CNN_model.add(layers.Conv2D(64, (3, 3), activation='relu'))\n",
    "\n",
    "CNN_model.add(layers.Flatten())\n",
    "CNN_model.add(layers.Dense(64, activation='relu'))\n",
    "CNN_model.add(layers.Dense(10, activation='softmax'))\n",
    "\n",
    "# samma kompilering som tidigare\n",
    "CNN_model.compile(optimizer='sgd',  #rmsprop\n",
    "              loss='categorical_crossentropy',\n",
    "              metrics=['accuracy'])\n",
    "CNN_model.summary()"
   ]
  },
  {
   "cell_type": "markdown",
   "metadata": {},
   "source": [
    "#### Träna nätverket\n",
    "\n",
    "- Vi tränar återigen nätverket med 10 000 obs i validering\n",
    "\n",
    "- Eftersom CNN är mer tidskrävande kör vi bara ett fåtal epochs och testar även en förtränad modell"
   ]
  },
  {
   "cell_type": "code",
   "execution_count": 19,
   "metadata": {},
   "outputs": [
    {
     "name": "stdout",
     "output_type": "stream",
     "text": [
      "Train on 50000 samples, validate on 10000 samples\n",
      "Epoch 1/5\n",
      "50000/50000 [==============================] - 28s 559us/sample - loss: 2.7149 - accuracy: 0.6174 - val_loss: 0.2484 - val_accuracy: 0.9245\n",
      "Epoch 2/5\n",
      "50000/50000 [==============================] - 28s 557us/sample - loss: 0.1959 - accuracy: 0.9401 - val_loss: 0.1561 - val_accuracy: 0.9538\n",
      "Epoch 3/5\n",
      "50000/50000 [==============================] - 28s 551us/sample - loss: 0.1281 - accuracy: 0.9611 - val_loss: 0.1122 - val_accuracy: 0.9677\n",
      "Epoch 4/5\n",
      "50000/50000 [==============================] - 28s 567us/sample - loss: 0.1029 - accuracy: 0.9680 - val_loss: 0.0970 - val_accuracy: 0.9722\n",
      "Epoch 5/5\n",
      "50000/50000 [==============================] - 30s 591us/sample - loss: 0.0842 - accuracy: 0.9738 - val_loss: 0.1044 - val_accuracy: 0.9690\n"
     ]
    }
   ],
   "source": [
    "val_prop=1/6\n",
    "\n",
    "history = CNN_model.fit(x_train_resized,\n",
    "                        y_train_labels,\n",
    "                        epochs=5, #Vi tränar väldigt kort, endast 5 epochs, addera fler om du vill\n",
    "                        batch_size=256,\n",
    "                        validation_split=val_prop)"
   ]
  },
  {
   "cell_type": "markdown",
   "metadata": {},
   "source": [
    "När modeller tar längre tid att träna är det viktigt att spara ned dem"
   ]
  },
  {
   "cell_type": "code",
   "execution_count": 20,
   "metadata": {},
   "outputs": [],
   "source": [
    "CNN_model.save('MNIST_CNN_V1.h5')"
   ]
  },
  {
   "cell_type": "code",
   "execution_count": 21,
   "metadata": {},
   "outputs": [],
   "source": [
    "# Spara ned träningshistoriken\n",
    "import pickle\n",
    "with open('MNIST_CNN_V1_hist', 'wb') as file_pi:\n",
    "    pickle.dump(history.history, file_pi)"
   ]
  },
  {
   "cell_type": "markdown",
   "metadata": {},
   "source": [
    "### Ladda in förtränad model\n",
    "\n",
    "Eftersom att vi inte hinner träna vår modell särskilt länge under vår övningsdag, kan vi här ladda in en förtränad modell och dess historik"
   ]
  },
  {
   "cell_type": "code",
   "execution_count": 22,
   "metadata": {},
   "outputs": [],
   "source": [
    "from tensorflow.keras.models import load_model\n",
    "import pickle\n",
    " \n",
    "# Ladda in förtränad model\n",
    "CNN_model_pretrain = load_model('MNIST_CNN_V1_100_epochs.h5')\n",
    "\n",
    "# Ladda in historiken för förtränad model\n",
    "\n",
    "with open('MNIST_CNN_V1_100_epochs_hist', 'rb') as f:\n",
    "    # load using pickle de-serializer\n",
    "    history_pretrain = pickle.load(f)"
   ]
  },
  {
   "cell_type": "markdown",
   "metadata": {},
   "source": [
    "#### Modellutvärdering\n",
    "\n",
    "- Vi utvärderar nu hur bra modellen tränar på träningsdata och generaliserar på Valideringsdata\n",
    "- Är vi inte nöjda med modellen kan man lägga justerar vi den och tränar återigen\n",
    "- När vi sedan är nöjda utvärderar vi modellen en sista gång på test-data\n"
   ]
  },
  {
   "cell_type": "code",
   "execution_count": 23,
   "metadata": {
    "scrolled": false
   },
   "outputs": [
    {
     "name": "stdout",
     "output_type": "stream",
     "text": [
      "accuracy, train:  0.97376\n",
      "accuracy, validation:  0.969\n"
     ]
    },
    {
     "data": {
      "image/png": "[encoded data removed]",
      "text/plain": [
       "<Figure size 432x288 with 1 Axes>"
      ]
     },
     "metadata": {
      "needs_background": "light"
     },
     "output_type": "display_data"
    },
    {
     "data": {
      "image/png": "[encoded data removed]",
      "text/plain": [
       "<Figure size 432x288 with 1 Axes>"
      ]
     },
     "metadata": {
      "needs_background": "light"
     },
     "output_type": "display_data"
    }
   ],
   "source": [
    "plot_training(history.history)"
   ]
  },
  {
   "cell_type": "markdown",
   "metadata": {},
   "source": [
    "#### Historik för vårt förtränade nätverk\n",
    "\n",
    "- Med vårt förtränade nätverk når vi högre accuracy då det fått träna längre"
   ]
  },
  {
   "cell_type": "code",
   "execution_count": 24,
   "metadata": {},
   "outputs": [
    {
     "name": "stdout",
     "output_type": "stream",
     "text": [
      "accuracy, train:  1.0\n",
      "accuracy, validation:  0.9846\n"
     ]
    },
    {
     "data": {
      "image/png": "[encoded data removed]",
      "text/plain": [
       "<Figure size 432x288 with 1 Axes>"
      ]
     },
     "metadata": {
      "needs_background": "light"
     },
     "output_type": "display_data"
    },
    {
     "data": {
      "image/png": "[encoded data removed]",
      "text/plain": [
       "<Figure size 432x288 with 1 Axes>"
      ]
     },
     "metadata": {
      "needs_background": "light"
     },
     "output_type": "display_data"
    }
   ],
   "source": [
    "plot_training(history_pretrain )"
   ]
  },
  {
   "cell_type": "markdown",
   "metadata": {},
   "source": [
    " "
   ]
  },
  {
   "cell_type": "markdown",
   "metadata": {},
   "source": [
    " ### Utvärdera på test-data\n",
    "\n",
    "För att undersöka hur väl modellen generaliserar på data den inte tränar på, och vi inte heller försökt optimera generaliserbarheten, utvärderar vi modellen på test-datasetet\n",
    "\n",
    "#### Vår egen träning"
   ]
  },
  {
   "cell_type": "code",
   "execution_count": 25,
   "metadata": {},
   "outputs": [
    {
     "name": "stdout",
     "output_type": "stream",
     "text": [
      "test accuracy: 0.9677\n"
     ]
    }
   ],
   "source": [
    "#Predicerar på test-data\n",
    "test_loss, test_acc = CNN_model.evaluate(x_test_resized, y_test_labels, verbose=0)\n",
    "\n",
    "print('test accuracy:', test_acc)"
   ]
  },
  {
   "cell_type": "markdown",
   "metadata": {},
   "source": [
    "#### Förtränad modell\n"
   ]
  },
  {
   "cell_type": "code",
   "execution_count": 26,
   "metadata": {},
   "outputs": [
    {
     "name": "stdout",
     "output_type": "stream",
     "text": [
      "test accuracy: 0.9847\n"
     ]
    }
   ],
   "source": [
    "#Predicerar på test-data\n",
    "test_loss_pre, test_acc_pre = CNN_model_pretrain.evaluate(x_test_resized, y_test_labels, verbose=0)\n",
    "\n",
    "print('test accuracy:', test_acc_pre)"
   ]
  },
  {
   "cell_type": "markdown",
   "metadata": {},
   "source": [
    "### Slutsats - Convolutional neural network\n",
    "\n",
    "- Vi uppnår högre accuracy med CNN än enkelt Dense nätverk\n",
    "- MNIST klarar sig bra med enkelt Dense nätverk, vid komplexare problem är CNN betydligt kraftfullare traditionella nätverk med enbart Dense-lager"
   ]
  },
  {
   "cell_type": "markdown",
   "metadata": {},
   "source": [
    " "
   ]
  },
  {
   "cell_type": "code",
   "execution_count": null,
   "metadata": {},
   "outputs": [],
   "source": []
  }
 ],
 "metadata": {
  "kernelspec": {
   "display_name": "Python 3",
   "language": "python",
   "name": "python3"
  },
  "language_info": {
   "codemirror_mode": {
    "name": "ipython",
    "version": 3
   },
   "file_extension": ".py",
   "mimetype": "text/x-python",
   "name": "python",
   "nbconvert_exporter": "python",
   "pygments_lexer": "ipython3",
   "version": "3.7.3"
  }
 },
 "nbformat": 4,
 "nbformat_minor": 2
}
