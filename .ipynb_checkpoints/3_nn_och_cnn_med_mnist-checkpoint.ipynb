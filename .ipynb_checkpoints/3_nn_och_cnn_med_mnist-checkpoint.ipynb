{
 "cells": [
  {
   "cell_type": "markdown",
   "metadata": {},
   "source": [
    "## A. Grundläggande neuralt nätverk med MNIST data setet\n",
    "\n",
    "Ett av de första fallen där Neurala nätverk visade sig effektiva och välpresterande var vid igenkänning av handskrivna Postkoder för  den Amerikanska Posten. Nätverket som kallades LeNet skapades av Yann Lecun på 1990-talet.\n",
    "\n",
    "I denna övning ska vi lära ett neuralt nätverk att klassificera handskriva siffror korrekt. Övningen är en typisk första övning inom neurala nätverk, hämtad från boken \"Deep Learning with Python\" av Francois Chollet som även byggt Keras. Rekommenderas för den som vill gräva djupare!\n",
    "\n",
    "\n",
    "Boken \"Deep Learning with Python\": https://www.manning.com/books/deep-learning-with-python?a_aid=keras&a_bid=76564dff\n",
    "\n",
    "Github med tillhörande notebooks: https://github.com/fchollet/deep-learning-with-python-notebooks\n",
    "\n",
    "\n",
    "#### Urval av data från MNIST-datasetet\n",
    "![](https://www.researchgate.net/profile/Steven_Young11/publication/306056875/figure/fig1/AS:393921575309346@1470929630835/Example-images-from-the-MNIST-dataset.png)\n",
    "\n"
   ]
  },
  {
   "cell_type": "markdown",
   "metadata": {},
   "source": [
    "MNIST-datasetet består av 70 000 bilder på handskrivna siffror. Namnet MNIST, Modified National Institute of Standards and Technology, kommer från institutet som skapade data setet med ett M tillagt då man modifierat det ursprungliga NIST-datasetet\n",
    "\n",
    "Bilderna består av handskrivna tal, från 0 till och med 9, i gråskala och med enbart 28x28 pixlar"
   ]
  },
  {
   "cell_type": "markdown",
   "metadata": {},
   "source": [
    " ."
   ]
  },
  {
   "cell_type": "markdown",
   "metadata": {},
   "source": [
    "##### Hämtar data från github"
   ]
  },
  {
   "cell_type": "code",
   "execution_count": null,
   "metadata": {},
   "outputs": [],
   "source": [
    "!git clone https://github.com/DavidRyden/block5-2020sept.git"
   ]
  },
  {
   "cell_type": "markdown",
   "metadata": {},
   "source": [
    " ##### Hjälpfunktioner\n",
    "\n",
    "- Används senare för att plotta modellutvärdering"
   ]
  },
  {
   "cell_type": "code",
   "execution_count": 1,
   "metadata": {},
   "outputs": [],
   "source": [
    "def plot_training(hist):\n",
    "    \n",
    "    print(\"accuracy, train: \", hist['accuracy'][-1])\n",
    "    print(\"accuracy, validation: \", hist['val_accuracy'][-1])\n",
    "    \n",
    "    # Credd : https://janakiev.com/notebooks/keras-iris/\n",
    "    # Plot training & validation accuracy values\n",
    "    plt.plot(hist['accuracy'])\n",
    "    plt.plot(hist['val_accuracy'])\n",
    "    plt.title('Model accuracy')\n",
    "    plt.ylabel('Accuracy')\n",
    "    plt.xlabel('Epoch')\n",
    "    plt.legend(['Train', 'Validation'], loc='upper left')\n",
    "    plt.show()\n",
    "\n",
    "    # Plot training & validation loss values\n",
    "    plt.plot(hist['loss'])\n",
    "    plt.plot(hist['val_loss'])\n",
    "    plt.title('Model loss')\n",
    "    plt.ylabel('Loss')\n",
    "    plt.xlabel('Epoch')\n",
    "    plt.legend(['Train', 'Validation'], loc='upper left')\n",
    "    plt.show()"
   ]
  },
  {
   "cell_type": "markdown",
   "metadata": {},
   "source": [
    " ."
   ]
  },
  {
   "cell_type": "markdown",
   "metadata": {},
   "source": [
    "#### Import av bibliotek \n",
    "\n",
    " Vi importerar Keras, som i sin tur använder TensorFlow som backend"
   ]
  },
  {
   "cell_type": "code",
   "execution_count": 2,
   "metadata": {},
   "outputs": [],
   "source": [
    "import tensorflow.keras as keras\n"
   ]
  },
  {
   "cell_type": "markdown",
   "metadata": {},
   "source": [
    "### Importera data\n",
    "\n",
    "MNIST är ett standard data set, till den grad att det redan finns att hämta direkt från Keras!\n",
    "\n",
    "Vi skapar här 4 stycken arrayer:\n",
    "- train_images, träningsdata bestående av 60 000 bilder med 28x28 pixlar\n",
    "- train_labels, 60 000 träningsetiketter som berättar vilken siffra träningsdatat ska representera\n",
    "\n",
    "\n",
    "- test_images, 10 000 bilder som används för att testa modellen\n",
    "- test_labels, 10 000 etiketter fför att testa modellen"
   ]
  },
  {
   "cell_type": "code",
   "execution_count": 3,
   "metadata": {},
   "outputs": [
    {
     "name": "stderr",
     "output_type": "stream",
     "text": [
      "Using TensorFlow backend.\n"
     ]
    }
   ],
   "source": [
    "from keras.datasets import mnist\n",
    "\n",
    "(train_images, train_labels), (test_images, test_labels) = mnist.load_data()"
   ]
  },
  {
   "cell_type": "markdown",
   "metadata": {},
   "source": [
    " ."
   ]
  },
  {
   "cell_type": "markdown",
   "metadata": {},
   "source": [
    " ."
   ]
  },
  {
   "cell_type": "markdown",
   "metadata": {},
   "source": [
    "Träningsdatat består alltså av 60 000 bilder som alla representeras av en matris med 28 kolumner och 28 rader"
   ]
  },
  {
   "cell_type": "code",
   "execution_count": 4,
   "metadata": {},
   "outputs": [
    {
     "data": {
      "text/plain": [
       "(60000, 28, 28)"
      ]
     },
     "execution_count": 4,
     "metadata": {},
     "output_type": "execute_result"
    }
   ],
   "source": [
    "train_images.shape"
   ]
  },
  {
   "cell_type": "markdown",
   "metadata": {},
   "source": [
    "train_labels består av en vektor med 60 000 rader, där varje rad säger vad train_image ska representera för siffra mellan 0-9"
   ]
  },
  {
   "cell_type": "code",
   "execution_count": 5,
   "metadata": {},
   "outputs": [
    {
     "data": {
      "text/plain": [
       "(60000,)"
      ]
     },
     "execution_count": 5,
     "metadata": {},
     "output_type": "execute_result"
    }
   ],
   "source": [
    "train_labels.shape"
   ]
  },
  {
   "cell_type": "markdown",
   "metadata": {},
   "source": [
    "##### Första träningsbilden\n",
    "\n",
    "Tittar vi enbart på den första bilden i train_images,  train_images[0],  så får vi grepp om hur en bild representeras:\n",
    "\n",
    "- 28 kolumner och 28 rader\n",
    "- De flesta celler är 0, vilket innebär att de är svarta\n",
    "- Cellerna i mitten symboliserar i detta fall en handskriven femma, desto närmare värdet 255 desto vitare är pixeln \n",
    "\n",
    "##### Exempel på första bilden"
   ]
  },
  {
   "cell_type": "code",
   "execution_count": 6,
   "metadata": {
    "scrolled": true
   },
   "outputs": [],
   "source": [
    "#print (train_images[0] )"
   ]
  },
  {
   "cell_type": "markdown",
   "metadata": {},
   "source": [
    "\n",
    "I en formaterad version, blir det tydligt vad vår 28x28-matris  representerar:\n",
    "\n",
    "![](https://github.com/DavidRyden/pics/blob/master/picture%20of%205.PNG?raw=true)"
   ]
  },
  {
   "cell_type": "markdown",
   "metadata": {},
   "source": [
    "  ."
   ]
  },
  {
   "cell_type": "markdown",
   "metadata": {},
   "source": [
    "  ."
   ]
  },
  {
   "cell_type": "markdown",
   "metadata": {},
   "source": [
    "  ."
   ]
  },
  {
   "cell_type": "markdown",
   "metadata": {},
   "source": [
    "  ."
   ]
  },
  {
   "cell_type": "markdown",
   "metadata": {},
   "source": [
    "  ."
   ]
  },
  {
   "cell_type": "markdown",
   "metadata": {},
   "source": [
    "  ##### test_images och test_labels\n",
    "    \n",
    "  - test_images består av 10 000 matris-representationer av handskriva siffror på precis på samma sätt som train_images\n",
    "  \n",
    "  - test_labels ger svaren på dessa test_images\n",
    "  \n",
    "  - Nedan är de två första observationerna"
   ]
  },
  {
   "cell_type": "code",
   "execution_count": 7,
   "metadata": {},
   "outputs": [
    {
     "data": {
      "image/png": "[encoded data removed]",
      "text/plain": [
       "<Figure size 432x288 with 1 Axes>"
      ]
     },
     "metadata": {
      "needs_background": "light"
     },
     "output_type": "display_data"
    },
    {
     "name": "stdout",
     "output_type": "stream",
     "text": [
      "Test image nr 0 föreställer:  7 \n",
      " \n",
      "\n"
     ]
    },
    {
     "data": {
      "image/png": "[encoded data removed]",
      "text/plain": [
       "<Figure size 432x288 with 1 Axes>"
      ]
     },
     "metadata": {
      "needs_background": "light"
     },
     "output_type": "display_data"
    },
    {
     "name": "stdout",
     "output_type": "stream",
     "text": [
      "Test image nr 1 föreställer:  2 \n",
      " \n",
      "\n"
     ]
    }
   ],
   "source": [
    "import matplotlib.pyplot as plt\n",
    "%matplotlib inline\n",
    "\n",
    "\n",
    "plt.imshow(test_images[0], cmap='gray')\n",
    "plt.show()\n",
    "print(\"Test image nr 0 föreställer: \",test_labels[0] , \"\\n \\n\")\n",
    "\n",
    "plt.imshow(test_images[1], cmap='gray')\n",
    "plt.show()\n",
    "print(\"Test image nr 1 föreställer: \",test_labels[1], \"\\n \\n\")\n",
    "\n"
   ]
  },
  {
   "cell_type": "markdown",
   "metadata": {},
   "source": [
    "  ."
   ]
  },
  {
   "cell_type": "markdown",
   "metadata": {},
   "source": [
    "  ."
   ]
  },
  {
   "cell_type": "markdown",
   "metadata": {},
   "source": [
    "  ## Skapa neuralt nätverk"
   ]
  },
  {
   "cell_type": "markdown",
   "metadata": {},
   "source": [
    "Vi använder datat till vår neurala nätverks-modell som vilken annan modell:\n",
    "\n",
    "1. Vi låter vårt neurala nätverk träna på `train_images` och `train_labels`\n",
    "2. Vi verifierar vår modells prediktioner med hjälp av `test_images` och `test_labels`"
   ]
  },
  {
   "cell_type": "markdown",
   "metadata": {},
   "source": [
    "##### Grundläggande struktur\n",
    "\n",
    "Vi skapar här en grundläggande modellarkitektur, väldigt likt de vi tidigare skapat:\n",
    "\n",
    "- Sequential()\n",
    "\n",
    "\n",
    "- Ett ReLu-aktiverat lager med 512 neuroner\n",
    "\n",
    "\n",
    "- Vi anger hur vår input ser ut med \"(28 * 28,)\". Vi \"plattar\" alltså till bilderna: istället för att se bilderna som 28 kolumner och 28 rader, ser vi de som 1 kolumn med 784 (28x28) rader \n",
    "\n",
    "\n",
    "\n",
    "- I vårt sista output-lager anger vi 10 neuroner och \"softmax\" aktivering då vi vill ha prediktioner för 10 klasser \n"
   ]
  },
  {
   "cell_type": "code",
   "execution_count": 8,
   "metadata": {},
   "outputs": [],
   "source": [
    "from tensorflow.keras import models\n",
    "from tensorflow.keras import layers\n",
    "\n",
    "network = models.Sequential()\n",
    "network.add(layers.Dense(512, activation='relu', input_shape=(28 * 28,)))\n",
    "\n",
    "# Output-lager\n",
    "network.add(layers.Dense(10, activation='softmax'))"
   ]
  },
  {
   "cell_type": "markdown",
   "metadata": {},
   "source": [
    ".\n"
   ]
  },
  {
   "cell_type": "markdown",
   "metadata": {},
   "source": [
    ".\n"
   ]
  },
  {
   "cell_type": "markdown",
   "metadata": {},
   "source": [
    ".\n"
   ]
  },
  {
   "cell_type": "markdown",
   "metadata": {},
   "source": [
    "\n",
    "##### Vidare konfiguration\n",
    "\n",
    "Vi använder oss av Stochastic gradient descent (sgd), categorical_crossentropy och accuracy som tidigare\n"
   ]
  },
  {
   "cell_type": "code",
   "execution_count": 9,
   "metadata": {},
   "outputs": [],
   "source": [
    "network.compile(optimizer='sgd', #rmsprop\n",
    "                loss='categorical_crossentropy',\n",
    "                metrics=['accuracy'])"
   ]
  },
  {
   "cell_type": "markdown",
   "metadata": {},
   "source": [
    " ."
   ]
  },
  {
   "cell_type": "markdown",
   "metadata": {},
   "source": [
    " ."
   ]
  },
  {
   "cell_type": "markdown",
   "metadata": {},
   "source": [
    "\n",
    "##### Transformera input-data\n",
    "\n",
    "Vi såg tidigare att input data innehöll celler med värden mellan 0-255. Neurala nätverk konvergerar fortare om vi normaliserar input mellan intervallet 0 och 1. Vi transformerar därför datat genom att dividera alla celler med 255.\n",
    "\n",
    "- Nu betyder 0 fortfarande svart, men det högsta värdet är 1 vilket nu står för helt vitt\n",
    "\n",
    "Vi förändrar även data från än array med formen (60000,28,28) till (60000, 28 * 28). Vi plattar alltså ut input från att en bild bestått av 28 kolumner och 28 rader till att den blir endast en kolumn med 784 rader"
   ]
  },
  {
   "cell_type": "code",
   "execution_count": 10,
   "metadata": {},
   "outputs": [],
   "source": [
    "train_images = train_images.reshape((60000, 28 * 28))\n",
    "train_images = train_images.astype('float32') / 255\n",
    "\n",
    "test_images = test_images.reshape((10000, 28 * 28))\n",
    "test_images = test_images.astype('float32') / 255"
   ]
  },
  {
   "cell_type": "markdown",
   "metadata": {},
   "source": [
    " ."
   ]
  },
  {
   "cell_type": "markdown",
   "metadata": {},
   "source": [
    " "
   ]
  },
  {
   "cell_type": "markdown",
   "metadata": {},
   "source": [
    "##### Transformera labels\n",
    "\n",
    "* Vi behöver också transformera våra labels för att nätverket ska kunna hantera dem. Istället för att en observation visar en siffra mellan 0 och 9, blir en observation en array med 10 dummy-variabler\n"
   ]
  },
  {
   "cell_type": "markdown",
   "metadata": {},
   "source": [
    "**train_labels innan transformering**\n",
    "\n",
    "- 60 000 rader och 1 kolumn"
   ]
  },
  {
   "cell_type": "code",
   "execution_count": 11,
   "metadata": {},
   "outputs": [
    {
     "name": "stdout",
     "output_type": "stream",
     "text": [
      "Form: (60000,)\n",
      "\n",
      "De tre första observationerna innan transformering: \n",
      "\n",
      "5\n",
      "0\n",
      "4\n"
     ]
    }
   ],
   "source": [
    "print(\"Form:\",train_labels.shape)\n",
    "\n",
    "print(\"\\nDe tre första observationerna innan transformering: \\n\")\n",
    "print(train_labels[0])\n",
    "print(train_labels[1])\n",
    "print(train_labels[2])"
   ]
  },
  {
   "cell_type": "markdown",
   "metadata": {},
   "source": [
    "**train_labels efter transformering**\n",
    "\n",
    "Vi använder funktionen inbyggda keras-funktionen \"to_categorical\" för att utföra transformationen"
   ]
  },
  {
   "cell_type": "code",
   "execution_count": 12,
   "metadata": {},
   "outputs": [],
   "source": [
    "from tensorflow.keras.utils import to_categorical\n",
    "\n",
    "train_labels = to_categorical(train_labels)\n",
    "test_labels = to_categorical(test_labels)"
   ]
  },
  {
   "cell_type": "markdown",
   "metadata": {},
   "source": [
    "- Nu har våra train_labels istället 60 000 rader och 10 kolumner"
   ]
  },
  {
   "cell_type": "code",
   "execution_count": 13,
   "metadata": {},
   "outputs": [
    {
     "name": "stdout",
     "output_type": "stream",
     "text": [
      "Form: (60000, 10)\n",
      "\n",
      "De tre första observationerna efter transformering: \n",
      "\n",
      "kolumn-namn\n",
      "[0  1  2  3  4  5  6  7  8  9 ]\n",
      "\n",
      "[0. 0. 0. 0. 0. 1. 0. 0. 0. 0.]\n",
      "[1. 0. 0. 0. 0. 0. 0. 0. 0. 0.]\n",
      "[0. 0. 0. 0. 1. 0. 0. 0. 0. 0.]\n"
     ]
    }
   ],
   "source": [
    "print(\"Form:\",train_labels.shape)\n",
    "\n",
    "print(\"\\nDe tre första observationerna efter transformering: \\n\")\n",
    "print(\"kolumn-namn\")\n",
    "print(\"[0  1  2  3  4  5  6  7  8  9 ]\\n\")\n",
    "\n",
    "\n",
    "print(train_labels[0])\n",
    "print(train_labels[1])\n",
    "print(train_labels[2])"
   ]
  },
  {
   "cell_type": "markdown",
   "metadata": {},
   "source": [
    " ."
   ]
  },
  {
   "cell_type": "markdown",
   "metadata": {},
   "source": [
    " ."
   ]
  },
  {
   "cell_type": "markdown",
   "metadata": {},
   "source": [
    "##### Träna nätverket\n",
    "\n",
    "##### Valideringsdata\n",
    " \n",
    "I detta case har vi tillräckligt många observationer för att använda tre data set\n",
    "\n",
    "1. Train (50 000 obs),  att träna på\n",
    "2. Validation (10 000 obs), att validera och försöka generalisera på\n",
    "3. Test (10 000 obs), data vi inte är tillåtna att använda alls förens vi är klara med vår modell\n",
    "\n",
    "\n",
    "\n",
    "- Train och Test har vi redan skapat, Validation skapar vi genom funktionen \"validation_split=1/6\", som samplar 1/6 av träningsdatat\n",
    "\n",
    "- Vi är nu redo att träna modellen!"
   ]
  },
  {
   "cell_type": "code",
   "execution_count": 14,
   "metadata": {
    "scrolled": true
   },
   "outputs": [
    {
     "name": "stdout",
     "output_type": "stream",
     "text": [
      "Train on 50000 samples, validate on 10000 samples\n",
      "Epoch 1/50\n",
      "50000/50000 [==============================] - 5s 103us/sample - loss: 1.1508 - accuracy: 0.7455 - val_loss: 0.6346 - val_accuracy: 0.8703\n",
      "Epoch 2/50\n",
      "50000/50000 [==============================] - 4s 79us/sample - loss: 0.5634 - accuracy: 0.8672 - val_loss: 0.4487 - val_accuracy: 0.8909\n",
      "Epoch 3/50\n",
      "50000/50000 [==============================] - 4s 82us/sample - loss: 0.4488 - accuracy: 0.8850 - val_loss: 0.3806 - val_accuracy: 0.9029\n",
      "Epoch 4/50\n",
      "50000/50000 [==============================] - 4s 79us/sample - loss: 0.3972 - accuracy: 0.8941 - val_loss: 0.3471 - val_accuracy: 0.9088\n",
      "Epoch 5/50\n",
      "50000/50000 [==============================] - 4s 76us/sample - loss: 0.3661 - accuracy: 0.9007 - val_loss: 0.3243 - val_accuracy: 0.9132\n",
      "Epoch 6/50\n",
      "50000/50000 [==============================] - 4s 76us/sample - loss: 0.3442 - accuracy: 0.9059 - val_loss: 0.3080 - val_accuracy: 0.9166\n",
      "Epoch 7/50\n",
      "50000/50000 [==============================] - 4s 76us/sample - loss: 0.3274 - accuracy: 0.9100 - val_loss: 0.2950 - val_accuracy: 0.9202\n",
      "Epoch 8/50\n",
      "50000/50000 [==============================] - 4s 77us/sample - loss: 0.3138 - accuracy: 0.9133 - val_loss: 0.2849 - val_accuracy: 0.9224\n",
      "Epoch 9/50\n",
      "50000/50000 [==============================] - 4s 76us/sample - loss: 0.3022 - accuracy: 0.9161 - val_loss: 0.2756 - val_accuracy: 0.9247\n",
      "Epoch 10/50\n",
      "50000/50000 [==============================] - 4s 82us/sample - loss: 0.2921 - accuracy: 0.9187 - val_loss: 0.2679 - val_accuracy: 0.9265\n",
      "Epoch 11/50\n",
      "50000/50000 [==============================] - 4s 76us/sample - loss: 0.2831 - accuracy: 0.9211 - val_loss: 0.2600 - val_accuracy: 0.9285\n",
      "Epoch 12/50\n",
      "50000/50000 [==============================] - 4s 75us/sample - loss: 0.2750 - accuracy: 0.9235 - val_loss: 0.2539 - val_accuracy: 0.9291\n",
      "Epoch 13/50\n",
      "50000/50000 [==============================] - 4s 78us/sample - loss: 0.2674 - accuracy: 0.9257 - val_loss: 0.2482 - val_accuracy: 0.9317\n",
      "Epoch 14/50\n",
      "50000/50000 [==============================] - 4s 77us/sample - loss: 0.2606 - accuracy: 0.9278 - val_loss: 0.2421 - val_accuracy: 0.9329\n",
      "Epoch 15/50\n",
      "50000/50000 [==============================] - 4s 76us/sample - loss: 0.2541 - accuracy: 0.9295 - val_loss: 0.2373 - val_accuracy: 0.9342\n",
      "Epoch 16/50\n",
      "50000/50000 [==============================] - 4s 75us/sample - loss: 0.2482 - accuracy: 0.9313 - val_loss: 0.2315 - val_accuracy: 0.9353\n",
      "Epoch 17/50\n",
      "50000/50000 [==============================] - 4s 83us/sample - loss: 0.2425 - accuracy: 0.9331 - val_loss: 0.2273 - val_accuracy: 0.9361\n",
      "Epoch 18/50\n",
      "50000/50000 [==============================] - 4s 77us/sample - loss: 0.2371 - accuracy: 0.9345 - val_loss: 0.2230 - val_accuracy: 0.9380\n",
      "Epoch 19/50\n",
      "50000/50000 [==============================] - 4s 77us/sample - loss: 0.2319 - accuracy: 0.9358 - val_loss: 0.2183 - val_accuracy: 0.9388\n",
      "Epoch 20/50\n",
      "50000/50000 [==============================] - 4s 78us/sample - loss: 0.2273 - accuracy: 0.9371 - val_loss: 0.2147 - val_accuracy: 0.9412\n",
      "Epoch 21/50\n",
      "50000/50000 [==============================] - 4s 78us/sample - loss: 0.2227 - accuracy: 0.9379 - val_loss: 0.2108 - val_accuracy: 0.9424\n",
      "Epoch 22/50\n",
      "50000/50000 [==============================] - 4s 79us/sample - loss: 0.2181 - accuracy: 0.9393 - val_loss: 0.2069 - val_accuracy: 0.9440\n",
      "Epoch 23/50\n",
      "50000/50000 [==============================] - 4s 78us/sample - loss: 0.2139 - accuracy: 0.9404 - val_loss: 0.2034 - val_accuracy: 0.9442\n",
      "Epoch 24/50\n",
      "50000/50000 [==============================] - 4s 79us/sample - loss: 0.2100 - accuracy: 0.9419 - val_loss: 0.1999 - val_accuracy: 0.9459\n",
      "Epoch 25/50\n",
      "50000/50000 [==============================] - 4s 75us/sample - loss: 0.2061 - accuracy: 0.9425 - val_loss: 0.1973 - val_accuracy: 0.9463\n",
      "Epoch 26/50\n",
      "50000/50000 [==============================] - 4s 80us/sample - loss: 0.2023 - accuracy: 0.9431 - val_loss: 0.1943 - val_accuracy: 0.9474\n",
      "Epoch 27/50\n",
      "50000/50000 [==============================] - 4s 81us/sample - loss: 0.1987 - accuracy: 0.9442 - val_loss: 0.1913 - val_accuracy: 0.9486\n",
      "Epoch 28/50\n",
      "50000/50000 [==============================] - 4s 80us/sample - loss: 0.1952 - accuracy: 0.9452 - val_loss: 0.1884 - val_accuracy: 0.9501\n",
      "Epoch 29/50\n",
      "50000/50000 [==============================] - 4s 77us/sample - loss: 0.1920 - accuracy: 0.9458 - val_loss: 0.1854 - val_accuracy: 0.9510\n",
      "Epoch 30/50\n",
      "50000/50000 [==============================] - 4s 78us/sample - loss: 0.1887 - accuracy: 0.9469 - val_loss: 0.1827 - val_accuracy: 0.9516\n",
      "Epoch 31/50\n",
      "50000/50000 [==============================] - 4s 77us/sample - loss: 0.1855 - accuracy: 0.9476 - val_loss: 0.1802 - val_accuracy: 0.9519\n",
      "Epoch 32/50\n",
      "50000/50000 [==============================] - 4s 76us/sample - loss: 0.1825 - accuracy: 0.9486 - val_loss: 0.1779 - val_accuracy: 0.9523\n",
      "Epoch 33/50\n",
      "50000/50000 [==============================] - 4s 77us/sample - loss: 0.1796 - accuracy: 0.9496 - val_loss: 0.1751 - val_accuracy: 0.9536\n",
      "Epoch 34/50\n",
      "50000/50000 [==============================] - 4s 77us/sample - loss: 0.1765 - accuracy: 0.9504 - val_loss: 0.1734 - val_accuracy: 0.9547\n",
      "Epoch 35/50\n",
      "50000/50000 [==============================] - 4s 77us/sample - loss: 0.1738 - accuracy: 0.9514 - val_loss: 0.1707 - val_accuracy: 0.9553\n",
      "Epoch 36/50\n",
      "50000/50000 [==============================] - 4s 76us/sample - loss: 0.1712 - accuracy: 0.9519 - val_loss: 0.1686 - val_accuracy: 0.9559\n",
      "Epoch 37/50\n",
      "50000/50000 [==============================] - 4s 76us/sample - loss: 0.1686 - accuracy: 0.9527 - val_loss: 0.1668 - val_accuracy: 0.9560\n",
      "Epoch 38/50\n",
      "50000/50000 [==============================] - 4s 76us/sample - loss: 0.1660 - accuracy: 0.9532 - val_loss: 0.1646 - val_accuracy: 0.9567\n",
      "Epoch 39/50\n",
      "50000/50000 [==============================] - 4s 77us/sample - loss: 0.1636 - accuracy: 0.9544 - val_loss: 0.1629 - val_accuracy: 0.9576\n",
      "Epoch 40/50\n",
      "50000/50000 [==============================] - 4s 77us/sample - loss: 0.1612 - accuracy: 0.9548 - val_loss: 0.1606 - val_accuracy: 0.9585\n",
      "Epoch 41/50\n",
      "50000/50000 [==============================] - 4s 76us/sample - loss: 0.1588 - accuracy: 0.9555 - val_loss: 0.1585 - val_accuracy: 0.9582\n",
      "Epoch 42/50\n",
      "50000/50000 [==============================] - 4s 76us/sample - loss: 0.1566 - accuracy: 0.9563 - val_loss: 0.1570 - val_accuracy: 0.9592\n",
      "Epoch 43/50\n",
      "50000/50000 [==============================] - 4s 77us/sample - loss: 0.1544 - accuracy: 0.9570 - val_loss: 0.1548 - val_accuracy: 0.9595\n",
      "Epoch 44/50\n",
      "50000/50000 [==============================] - 4s 78us/sample - loss: 0.1522 - accuracy: 0.9577 - val_loss: 0.1537 - val_accuracy: 0.9598\n",
      "Epoch 45/50\n",
      "50000/50000 [==============================] - 4s 76us/sample - loss: 0.1502 - accuracy: 0.9579 - val_loss: 0.1514 - val_accuracy: 0.9601\n",
      "Epoch 46/50\n",
      "50000/50000 [==============================] - 4s 76us/sample - loss: 0.1481 - accuracy: 0.9588 - val_loss: 0.1501 - val_accuracy: 0.9603\n",
      "Epoch 47/50\n",
      "50000/50000 [==============================] - 4s 76us/sample - loss: 0.1461 - accuracy: 0.9594 - val_loss: 0.1485 - val_accuracy: 0.9613\n",
      "Epoch 48/50\n",
      "50000/50000 [==============================] - 4s 75us/sample - loss: 0.1441 - accuracy: 0.9602 - val_loss: 0.1471 - val_accuracy: 0.9611\n",
      "Epoch 49/50\n",
      "50000/50000 [==============================] - 4s 75us/sample - loss: 0.1422 - accuracy: 0.9604 - val_loss: 0.1454 - val_accuracy: 0.9621\n",
      "Epoch 50/50\n",
      "50000/50000 [==============================] - 4s 76us/sample - loss: 0.1404 - accuracy: 0.9613 - val_loss: 0.1441 - val_accuracy: 0.9627\n"
     ]
    }
   ],
   "source": [
    "#Proportion av data till valideringsdata (vi vill ha 10 000 observationer)\n",
    "val_prop = 1/6\n",
    "\n",
    "history = network.fit(train_images, train_labels, epochs=50, batch_size=128,  validation_split=val_prop)"
   ]
  },
  {
   "cell_type": "markdown",
   "metadata": {},
   "source": [
    " "
   ]
  },
  {
   "cell_type": "markdown",
   "metadata": {},
   "source": [
    "##### Modellutvärdering\n",
    "\n",
    "- Vi utvärderar nu hur bra modellen tränar på träningsdata och generaliserar på Valideringsdata\n",
    "- Är vi inte nöjda med modellen kan man lägga till fler noder, hidden layers eller t.ex introducera regularisering\n",
    "- När vi sedan är nöjda utvärderar vi modellen en sista gång på test-data\n"
   ]
  },
  {
   "cell_type": "code",
   "execution_count": 15,
   "metadata": {},
   "outputs": [
    {
     "name": "stdout",
     "output_type": "stream",
     "text": [
      "accuracy, train:  0.96126\n",
      "accuracy, validation:  0.9627\n"
     ]
    },
    {
     "data": {
      "image/png": "[encoded data removed]",
      "text/plain": [
       "<Figure size 432x288 with 1 Axes>"
      ]
     },
     "metadata": {
      "needs_background": "light"
     },
     "output_type": "display_data"
    },
    {
     "data": {
      "image/png": "[encoded data removed]",
      "text/plain": [
       "<Figure size 432x288 with 1 Axes>"
      ]
     },
     "metadata": {
      "needs_background": "light"
     },
     "output_type": "display_data"
    }
   ],
   "source": [
    "plot_training(history.history)"
   ]
  },
  {
   "cell_type": "markdown",
   "metadata": {},
   "source": [
    "\n",
    "##### Utvärdera på test-data\n",
    "\n",
    "För att undersöka hur väl modellen generaliserar på data den inte tränar på, och vi inte heller försökt optimera generaliserbarheten, utvärderar vi modellen på test-datasetet"
   ]
  },
  {
   "cell_type": "code",
   "execution_count": 16,
   "metadata": {},
   "outputs": [
    {
     "name": "stdout",
     "output_type": "stream",
     "text": [
      "test accuracy: 0.9569\n"
     ]
    }
   ],
   "source": [
    "#Predicerar på test-data\n",
    "test_loss, test_acc = network.evaluate(test_images, test_labels, verbose=0)\n",
    "\n",
    "print('test accuracy:', test_acc)"
   ]
  },
  {
   "cell_type": "markdown",
   "metadata": {},
   "source": [
    " ."
   ]
  },
  {
   "cell_type": "markdown",
   "metadata": {},
   "source": [
    "##### Slutsats\n",
    "\n",
    "På detta testdata får vi en accuracy på nästan 96-97%, alltså att modellen klassificerar 97% av bilderna korrekt.\n",
    "\n",
    "Vi har med ett fåtal rader kod skapat en modell som klassificerar handskrivna siffror korrekt, med väldigt hög träffsäkerhet.\n",
    "\n",
    "Även om detta med dagens mått inte är så imponerande längre, är det värt att komma ihåg att detta var \"state of the art\" för ett decennium sedan, och att vi enkelt kan replikera detta tack vare det open source-community som gjort detta tillgängligt för oss\n",
    "\n",
    "\n",
    "\n"
   ]
  },
  {
   "cell_type": "markdown",
   "metadata": {},
   "source": [
    " "
   ]
  },
  {
   "cell_type": "markdown",
   "metadata": {},
   "source": [
    " ."
   ]
  },
  {
   "cell_type": "markdown",
   "metadata": {},
   "source": [
    " ##### Är 100% träffsäkerhet önskvärd?\n",
    "\n",
    "Även om vi inte får **100%** träffsäkerhet, kan man ha viss förståelse att modellen klassificerar fel på de observationer den gör.\n",
    "\n",
    "Nedan undersöker vi den observation där vår modell är säker på en felaktig siffra, dvs där prediktionen och sanningen skiljer sig som mest"
   ]
  },
  {
   "cell_type": "code",
   "execution_count": 50,
   "metadata": {},
   "outputs": [],
   "source": [
    "import numpy as np #för matris beräkningar\n",
    "\n",
    "# Predicerar sannolikheter\n",
    "test_pred = network.predict(test_images)\n",
    "# Tar differens mellan prediktion och sanning\n",
    "test_diff = np.abs(test_pred-test_labels)"
   ]
  },
  {
   "cell_type": "code",
   "execution_count": null,
   "metadata": {},
   "outputs": [],
   "source": []
  },
  {
   "cell_type": "code",
   "execution_count": 56,
   "metadata": {
    "scrolled": false
   },
   "outputs": [
    {
     "name": "stdout",
     "output_type": "stream",
     "text": [
      "Observation med störst differens mellan prediktion och sanning är nr :  [1790]\n",
      "\n",
      "\n",
      "Prediktionen är siffran :  [9]  med en säkerhet på: [0.5651755]\n",
      "\n",
      "\n",
      "Sanningen är :  [2]\n",
      "Vår modell anser att sannolikheten för detta är 3.39746e-05\n",
      "\n",
      "Bilden ser ut såhär:\n"
     ]
    },
    {
     "data": {
      "image/png": "[encoded data removed]",
      "text/plain": [
       "<Figure size 432x288 with 1 Axes>"
      ]
     },
     "metadata": {
      "needs_background": "light"
     },
     "output_type": "display_data"
    }
   ],
   "source": [
    "# Hämtar den observation med störst differens\n",
    "\n",
    "result = np.where(test_diff == np.amax(test_diff))\n",
    "\n",
    "predicted = np.where(test_pred[result[0]] == np.amax(test_pred[result[0]]))\n",
    "\n",
    "print('Observation med störst differens mellan prediktion och sanning är nr : ', result[0])\n",
    "print(\"\\n\")\n",
    "\n",
    "print('Prediktionen är siffran : ', predicted[1],' med en säkerhet på:', test_pred[result[0],predicted[1]]  )\n",
    "print(\"\\n\")\n",
    "print('Sanningen är : ',\n",
    "      np.where(test_labels[result[0]] == np.amax(test_labels[result[0]]))[1])\n",
    "print('Vår modell anser att sannolikheten för detta är', round(1-np.amax(test_diff), 10 ))\n",
    "\n",
    "print(\"\\nBilden ser ut såhär:\")\n",
    "plt.imshow(test_images[ result[0] ].reshape(28,28), cmap='gray')\n",
    "plt.show()\n"
   ]
  },
  {
   "cell_type": "markdown",
   "metadata": {},
   "source": [
    "För det mänskliga ögat är det inte uppenbart att detta att vår \"sanning\" är korrekt\n",
    "\n",
    "Skulle modellen lyckas klassificera detta korrekt krävs antingen att\n",
    "\n",
    "- Det faktiskt är väldigt vanligt i indata att man skriver såhär slarvigt \n",
    "- Man låter man modellen överträna till den grad att den på ett nytt dataset skulle felklassificera andra observationer"
   ]
  },
  {
   "cell_type": "markdown",
   "metadata": {},
   "source": [
    " "
   ]
  },
  {
   "cell_type": "markdown",
   "metadata": {},
   "source": [
    " "
   ]
  },
  {
   "cell_type": "markdown",
   "metadata": {},
   "source": [
    " "
   ]
  },
  {
   "cell_type": "markdown",
   "metadata": {},
   "source": [
    " "
   ]
  },
  {
   "cell_type": "markdown",
   "metadata": {},
   "source": [
    "  "
   ]
  },
  {
   "cell_type": "markdown",
   "metadata": {},
   "source": [
    " \n",
    "##### Ett ännu bättre exempel - Rabbit vs. duck\n",
    "\n",
    "- Vad vill vi klassificera nedan bild som, kanin eller anka?\n",
    " "
   ]
  },
  {
   "cell_type": "code",
   "execution_count": 19,
   "metadata": {},
   "outputs": [
    {
     "data": {
      "text/html": [
       "\n",
       "        <iframe\n",
       "            width=\"800\"\n",
       "            height=\"550\"\n",
       "            src=\"https://gfycat.com/ifr/FamousGleefulChimpanzee\"\n",
       "            frameborder=\"0\"\n",
       "            allowfullscreen\n",
       "        ></iframe>\n",
       "        "
      ],
      "text/plain": [
       "<IPython.lib.display.IFrame at 0x21a8c779898>"
      ]
     },
     "execution_count": 19,
     "metadata": {},
     "output_type": "execute_result"
    }
   ],
   "source": [
    "from IPython.display import IFrame    \n",
    "IFrame(\"https://gfycat.com/ifr/FamousGleefulChimpanzee\", width=800, height=550)"
   ]
  },
  {
   "cell_type": "markdown",
   "metadata": {},
   "source": [
    ". "
   ]
  },
  {
   "cell_type": "markdown",
   "metadata": {},
   "source": [
    " ."
   ]
  },
  {
   "cell_type": "markdown",
   "metadata": {},
   "source": [
    " ."
   ]
  },
  {
   "cell_type": "markdown",
   "metadata": {},
   "source": [
    " ."
   ]
  },
  {
   "cell_type": "markdown",
   "metadata": {},
   "source": [
    "## B. Convolutional Neural Network med MNIST\n",
    "\n",
    "Vi testar nu övningen med Convolutional lager istället Dense-lager\n",
    "\n"
   ]
  },
  {
   "cell_type": "markdown",
   "metadata": {},
   "source": [
    " ##### Laddar in mnist-data igen\n",
    "\n",
    "För CNN behöver vi skapa en 4:e dimension. 60000 syftar på våra träningsexempel. 28*28 syftar på antal pixlar i bilden (width*height). Utöver det behöver vi dessutom specificera antalet färgkanaler. Eftersom vi jobbar med svartvita bilder så har vi endast 1 färgkanal (60000, 28, 28, 1). Hade vi däreemot haft en färgbild så hade vi behövt specificera 3 input kanaler i linje med RGB formatet(red, green, blue). Då hade vi behövt skriva x_train_resized = x_train.reshape((60000, 28, 28, 3))\n"
   ]
  },
  {
   "cell_type": "code",
   "execution_count": 20,
   "metadata": {},
   "outputs": [],
   "source": [
    "(x_train, y_train), (x_test, y_test) = mnist.load_data()\n",
    "\n",
    "#För CNN behöver vi skapa en 4:e dimension \n",
    "x_train_resized = x_train.reshape((60000, 28, 28, 1))\n",
    "x_test_resized = x_test.reshape((10000, 28, 28, 1))\n",
    "\n",
    "#Återigen skapar vi dummy-variabler för respektive siffra\n",
    "y_train_labels = to_categorical(y_train)\n",
    "y_test_labels = to_categorical(y_test)"
   ]
  },
  {
   "cell_type": "markdown",
   "metadata": {},
   "source": [
    " ##### Modell-arkitektur\n",
    " \n",
    " \n",
    "Vi skapar här en grundläggande modellarkitektur, likt de vi tidigare gått igenom idag:\n",
    "\n",
    "- Alternerar mellan Convolutional Neural Networks och Maxpooling-lager\n",
    "\n",
    "- \"Plattar\" slutligen till vårt nätverk och kör ett Dense-lager\n",
    "\n",
    "\n",
    "- I vårt sista output-lager anger vi 10 neuroner och \"softmax\" aktivering då vi vill ha prediktioner till våra 10 klasser\n"
   ]
  },
  {
   "cell_type": "code",
   "execution_count": 21,
   "metadata": {},
   "outputs": [
    {
     "name": "stdout",
     "output_type": "stream",
     "text": [
      "Model: \"sequential_1\"\n",
      "_________________________________________________________________\n",
      "Layer (type)                 Output Shape              Param #   \n",
      "=================================================================\n",
      "conv2d (Conv2D)              (None, 26, 26, 32)        320       \n",
      "_________________________________________________________________\n",
      "max_pooling2d (MaxPooling2D) (None, 13, 13, 32)        0         \n",
      "_________________________________________________________________\n",
      "conv2d_1 (Conv2D)            (None, 11, 11, 64)        18496     \n",
      "_________________________________________________________________\n",
      "max_pooling2d_1 (MaxPooling2 (None, 5, 5, 64)          0         \n",
      "_________________________________________________________________\n",
      "conv2d_2 (Conv2D)            (None, 3, 3, 64)          36928     \n",
      "_________________________________________________________________\n",
      "flatten (Flatten)            (None, 576)               0         \n",
      "_________________________________________________________________\n",
      "dense_2 (Dense)              (None, 64)                36928     \n",
      "_________________________________________________________________\n",
      "dense_3 (Dense)              (None, 10)                650       \n",
      "=================================================================\n",
      "Total params: 93,322\n",
      "Trainable params: 93,322\n",
      "Non-trainable params: 0\n",
      "_________________________________________________________________\n"
     ]
    }
   ],
   "source": [
    "CNN_model = models.Sequential()\n",
    "CNN_model.add(layers.Conv2D(32, (3, 3), activation='relu', input_shape=(28, 28, 1))) # 28*28 pixlar med 1 kanal (svartvit bild)\n",
    "CNN_model.add(layers.MaxPooling2D((2, 2)))\n",
    "CNN_model.add(layers.Conv2D(64, (3, 3), activation='relu'))\n",
    "CNN_model.add(layers.MaxPooling2D((2, 2)))\n",
    "CNN_model.add(layers.Conv2D(64, (3, 3), activation='relu'))\n",
    "\n",
    "CNN_model.add(layers.Flatten())\n",
    "CNN_model.add(layers.Dense(64, activation='relu'))\n",
    "CNN_model.add(layers.Dense(10, activation='softmax'))\n",
    "\n",
    "# samma kompilering som tidigare\n",
    "CNN_model.compile(optimizer='sgd',  #rmsprop\n",
    "              loss='categorical_crossentropy',\n",
    "              metrics=['accuracy'])\n",
    "CNN_model.summary()"
   ]
  },
  {
   "cell_type": "markdown",
   "metadata": {},
   "source": [
    "##### Träna nätverket\n",
    "\n",
    "- Vi tränar återigen nätverket med 10 000 obs i validering\n",
    "\n",
    "- Eftersom CNN är mer tidskrävande kör vi bara ett fåtal epochs och testar även en förtränad modell"
   ]
  },
  {
   "cell_type": "code",
   "execution_count": 22,
   "metadata": {},
   "outputs": [
    {
     "name": "stdout",
     "output_type": "stream",
     "text": [
      "Train on 50000 samples, validate on 10000 samples\n",
      "Epoch 1/5\n",
      "50000/50000 [==============================] - 49s 988us/sample - loss: 2.0764 - accuracy: 0.7413 - val_loss: 0.1876 - val_accuracy: 0.9444\n",
      "Epoch 2/5\n",
      "50000/50000 [==============================] - 48s 959us/sample - loss: 0.1856 - accuracy: 0.9430 - val_loss: 0.1515 - val_accuracy: 0.9546\n",
      "Epoch 3/5\n",
      "50000/50000 [==============================] - 50s 1ms/sample - loss: 0.1229 - accuracy: 0.9609 - val_loss: 0.1258 - val_accuracy: 0.9650\n",
      "Epoch 4/5\n",
      "39168/50000 [======================>.......] - ETA: 9s - loss: 0.1176 - accuracy: 0.9633 "
     ]
    },
    {
     "ename": "KeyboardInterrupt",
     "evalue": "",
     "output_type": "error",
     "traceback": [
      "\u001b[1;31m---------------------------------------------------------------------------\u001b[0m",
      "\u001b[1;31mKeyboardInterrupt\u001b[0m                         Traceback (most recent call last)",
      "\u001b[1;32m<ipython-input-22-dc9f620a8e2b>\u001b[0m in \u001b[0;36m<module>\u001b[1;34m\u001b[0m\n\u001b[0;32m      5\u001b[0m                         \u001b[0mepochs\u001b[0m\u001b[1;33m=\u001b[0m\u001b[1;36m5\u001b[0m\u001b[1;33m,\u001b[0m \u001b[1;31m#Vi tränar väldigt kort, endast 5 epochs, addera fler om du vill\u001b[0m\u001b[1;33m\u001b[0m\u001b[1;33m\u001b[0m\u001b[0m\n\u001b[0;32m      6\u001b[0m                         \u001b[0mbatch_size\u001b[0m\u001b[1;33m=\u001b[0m\u001b[1;36m256\u001b[0m\u001b[1;33m,\u001b[0m\u001b[1;33m\u001b[0m\u001b[1;33m\u001b[0m\u001b[0m\n\u001b[1;32m----> 7\u001b[1;33m                         validation_split=val_prop)\n\u001b[0m",
      "\u001b[1;32m~\\AppData\\Local\\Continuum\\anaconda3\\lib\\site-packages\\tensorflow_core\\python\\keras\\engine\\training.py\u001b[0m in \u001b[0;36mfit\u001b[1;34m(self, x, y, batch_size, epochs, verbose, callbacks, validation_split, validation_data, shuffle, class_weight, sample_weight, initial_epoch, steps_per_epoch, validation_steps, validation_freq, max_queue_size, workers, use_multiprocessing, **kwargs)\u001b[0m\n\u001b[0;32m    726\u001b[0m         \u001b[0mmax_queue_size\u001b[0m\u001b[1;33m=\u001b[0m\u001b[0mmax_queue_size\u001b[0m\u001b[1;33m,\u001b[0m\u001b[1;33m\u001b[0m\u001b[1;33m\u001b[0m\u001b[0m\n\u001b[0;32m    727\u001b[0m         \u001b[0mworkers\u001b[0m\u001b[1;33m=\u001b[0m\u001b[0mworkers\u001b[0m\u001b[1;33m,\u001b[0m\u001b[1;33m\u001b[0m\u001b[1;33m\u001b[0m\u001b[0m\n\u001b[1;32m--> 728\u001b[1;33m         use_multiprocessing=use_multiprocessing)\n\u001b[0m\u001b[0;32m    729\u001b[0m \u001b[1;33m\u001b[0m\u001b[0m\n\u001b[0;32m    730\u001b[0m   def evaluate(self,\n",
      "\u001b[1;32m~\\AppData\\Local\\Continuum\\anaconda3\\lib\\site-packages\\tensorflow_core\\python\\keras\\engine\\training_v2.py\u001b[0m in \u001b[0;36mfit\u001b[1;34m(self, model, x, y, batch_size, epochs, verbose, callbacks, validation_split, validation_data, shuffle, class_weight, sample_weight, initial_epoch, steps_per_epoch, validation_steps, validation_freq, **kwargs)\u001b[0m\n\u001b[0;32m    322\u001b[0m                 \u001b[0mmode\u001b[0m\u001b[1;33m=\u001b[0m\u001b[0mModeKeys\u001b[0m\u001b[1;33m.\u001b[0m\u001b[0mTRAIN\u001b[0m\u001b[1;33m,\u001b[0m\u001b[1;33m\u001b[0m\u001b[1;33m\u001b[0m\u001b[0m\n\u001b[0;32m    323\u001b[0m                 \u001b[0mtraining_context\u001b[0m\u001b[1;33m=\u001b[0m\u001b[0mtraining_context\u001b[0m\u001b[1;33m,\u001b[0m\u001b[1;33m\u001b[0m\u001b[1;33m\u001b[0m\u001b[0m\n\u001b[1;32m--> 324\u001b[1;33m                 total_epochs=epochs)\n\u001b[0m\u001b[0;32m    325\u001b[0m             \u001b[0mcbks\u001b[0m\u001b[1;33m.\u001b[0m\u001b[0mmake_logs\u001b[0m\u001b[1;33m(\u001b[0m\u001b[0mmodel\u001b[0m\u001b[1;33m,\u001b[0m \u001b[0mepoch_logs\u001b[0m\u001b[1;33m,\u001b[0m \u001b[0mtraining_result\u001b[0m\u001b[1;33m,\u001b[0m \u001b[0mModeKeys\u001b[0m\u001b[1;33m.\u001b[0m\u001b[0mTRAIN\u001b[0m\u001b[1;33m)\u001b[0m\u001b[1;33m\u001b[0m\u001b[1;33m\u001b[0m\u001b[0m\n\u001b[0;32m    326\u001b[0m \u001b[1;33m\u001b[0m\u001b[0m\n",
      "\u001b[1;32m~\\AppData\\Local\\Continuum\\anaconda3\\lib\\site-packages\\tensorflow_core\\python\\keras\\engine\\training_v2.py\u001b[0m in \u001b[0;36mrun_one_epoch\u001b[1;34m(model, iterator, execution_function, dataset_size, batch_size, strategy, steps_per_epoch, num_samples, mode, training_context, total_epochs)\u001b[0m\n\u001b[0;32m    121\u001b[0m         step=step, mode=mode, size=current_batch_size) as batch_logs:\n\u001b[0;32m    122\u001b[0m       \u001b[1;32mtry\u001b[0m\u001b[1;33m:\u001b[0m\u001b[1;33m\u001b[0m\u001b[1;33m\u001b[0m\u001b[0m\n\u001b[1;32m--> 123\u001b[1;33m         \u001b[0mbatch_outs\u001b[0m \u001b[1;33m=\u001b[0m \u001b[0mexecution_function\u001b[0m\u001b[1;33m(\u001b[0m\u001b[0miterator\u001b[0m\u001b[1;33m)\u001b[0m\u001b[1;33m\u001b[0m\u001b[1;33m\u001b[0m\u001b[0m\n\u001b[0m\u001b[0;32m    124\u001b[0m       \u001b[1;32mexcept\u001b[0m \u001b[1;33m(\u001b[0m\u001b[0mStopIteration\u001b[0m\u001b[1;33m,\u001b[0m \u001b[0merrors\u001b[0m\u001b[1;33m.\u001b[0m\u001b[0mOutOfRangeError\u001b[0m\u001b[1;33m)\u001b[0m\u001b[1;33m:\u001b[0m\u001b[1;33m\u001b[0m\u001b[1;33m\u001b[0m\u001b[0m\n\u001b[0;32m    125\u001b[0m         \u001b[1;31m# TODO(kaftan): File bug about tf function and errors.OutOfRangeError?\u001b[0m\u001b[1;33m\u001b[0m\u001b[1;33m\u001b[0m\u001b[1;33m\u001b[0m\u001b[0m\n",
      "\u001b[1;32m~\\AppData\\Local\\Continuum\\anaconda3\\lib\\site-packages\\tensorflow_core\\python\\keras\\engine\\training_v2_utils.py\u001b[0m in \u001b[0;36mexecution_function\u001b[1;34m(input_fn)\u001b[0m\n\u001b[0;32m     84\u001b[0m     \u001b[1;31m# `numpy` translates Tensors to values in Eager mode.\u001b[0m\u001b[1;33m\u001b[0m\u001b[1;33m\u001b[0m\u001b[1;33m\u001b[0m\u001b[0m\n\u001b[0;32m     85\u001b[0m     return nest.map_structure(_non_none_constant_value,\n\u001b[1;32m---> 86\u001b[1;33m                               distributed_function(input_fn))\n\u001b[0m\u001b[0;32m     87\u001b[0m \u001b[1;33m\u001b[0m\u001b[0m\n\u001b[0;32m     88\u001b[0m   \u001b[1;32mreturn\u001b[0m \u001b[0mexecution_function\u001b[0m\u001b[1;33m\u001b[0m\u001b[1;33m\u001b[0m\u001b[0m\n",
      "\u001b[1;32m~\\AppData\\Local\\Continuum\\anaconda3\\lib\\site-packages\\tensorflow_core\\python\\eager\\def_function.py\u001b[0m in \u001b[0;36m__call__\u001b[1;34m(self, *args, **kwds)\u001b[0m\n\u001b[0;32m    455\u001b[0m \u001b[1;33m\u001b[0m\u001b[0m\n\u001b[0;32m    456\u001b[0m     \u001b[0mtracing_count\u001b[0m \u001b[1;33m=\u001b[0m \u001b[0mself\u001b[0m\u001b[1;33m.\u001b[0m\u001b[0m_get_tracing_count\u001b[0m\u001b[1;33m(\u001b[0m\u001b[1;33m)\u001b[0m\u001b[1;33m\u001b[0m\u001b[1;33m\u001b[0m\u001b[0m\n\u001b[1;32m--> 457\u001b[1;33m     \u001b[0mresult\u001b[0m \u001b[1;33m=\u001b[0m \u001b[0mself\u001b[0m\u001b[1;33m.\u001b[0m\u001b[0m_call\u001b[0m\u001b[1;33m(\u001b[0m\u001b[1;33m*\u001b[0m\u001b[0margs\u001b[0m\u001b[1;33m,\u001b[0m \u001b[1;33m**\u001b[0m\u001b[0mkwds\u001b[0m\u001b[1;33m)\u001b[0m\u001b[1;33m\u001b[0m\u001b[1;33m\u001b[0m\u001b[0m\n\u001b[0m\u001b[0;32m    458\u001b[0m     \u001b[1;32mif\u001b[0m \u001b[0mtracing_count\u001b[0m \u001b[1;33m==\u001b[0m \u001b[0mself\u001b[0m\u001b[1;33m.\u001b[0m\u001b[0m_get_tracing_count\u001b[0m\u001b[1;33m(\u001b[0m\u001b[1;33m)\u001b[0m\u001b[1;33m:\u001b[0m\u001b[1;33m\u001b[0m\u001b[1;33m\u001b[0m\u001b[0m\n\u001b[0;32m    459\u001b[0m       \u001b[0mself\u001b[0m\u001b[1;33m.\u001b[0m\u001b[0m_call_counter\u001b[0m\u001b[1;33m.\u001b[0m\u001b[0mcalled_without_tracing\u001b[0m\u001b[1;33m(\u001b[0m\u001b[1;33m)\u001b[0m\u001b[1;33m\u001b[0m\u001b[1;33m\u001b[0m\u001b[0m\n",
      "\u001b[1;32m~\\AppData\\Local\\Continuum\\anaconda3\\lib\\site-packages\\tensorflow_core\\python\\eager\\def_function.py\u001b[0m in \u001b[0;36m_call\u001b[1;34m(self, *args, **kwds)\u001b[0m\n\u001b[0;32m    485\u001b[0m       \u001b[1;31m# In this case we have created variables on the first call, so we run the\u001b[0m\u001b[1;33m\u001b[0m\u001b[1;33m\u001b[0m\u001b[1;33m\u001b[0m\u001b[0m\n\u001b[0;32m    486\u001b[0m       \u001b[1;31m# defunned version which is guaranteed to never create variables.\u001b[0m\u001b[1;33m\u001b[0m\u001b[1;33m\u001b[0m\u001b[1;33m\u001b[0m\u001b[0m\n\u001b[1;32m--> 487\u001b[1;33m       \u001b[1;32mreturn\u001b[0m \u001b[0mself\u001b[0m\u001b[1;33m.\u001b[0m\u001b[0m_stateless_fn\u001b[0m\u001b[1;33m(\u001b[0m\u001b[1;33m*\u001b[0m\u001b[0margs\u001b[0m\u001b[1;33m,\u001b[0m \u001b[1;33m**\u001b[0m\u001b[0mkwds\u001b[0m\u001b[1;33m)\u001b[0m  \u001b[1;31m# pylint: disable=not-callable\u001b[0m\u001b[1;33m\u001b[0m\u001b[1;33m\u001b[0m\u001b[0m\n\u001b[0m\u001b[0;32m    488\u001b[0m     \u001b[1;32melif\u001b[0m \u001b[0mself\u001b[0m\u001b[1;33m.\u001b[0m\u001b[0m_stateful_fn\u001b[0m \u001b[1;32mis\u001b[0m \u001b[1;32mnot\u001b[0m \u001b[1;32mNone\u001b[0m\u001b[1;33m:\u001b[0m\u001b[1;33m\u001b[0m\u001b[1;33m\u001b[0m\u001b[0m\n\u001b[0;32m    489\u001b[0m       \u001b[1;31m# Release the lock early so that multiple threads can perform the call\u001b[0m\u001b[1;33m\u001b[0m\u001b[1;33m\u001b[0m\u001b[1;33m\u001b[0m\u001b[0m\n",
      "\u001b[1;32m~\\AppData\\Local\\Continuum\\anaconda3\\lib\\site-packages\\tensorflow_core\\python\\eager\\function.py\u001b[0m in \u001b[0;36m__call__\u001b[1;34m(self, *args, **kwargs)\u001b[0m\n\u001b[0;32m   1821\u001b[0m     \u001b[1;34m\"\"\"Calls a graph function specialized to the inputs.\"\"\"\u001b[0m\u001b[1;33m\u001b[0m\u001b[1;33m\u001b[0m\u001b[0m\n\u001b[0;32m   1822\u001b[0m     \u001b[0mgraph_function\u001b[0m\u001b[1;33m,\u001b[0m \u001b[0margs\u001b[0m\u001b[1;33m,\u001b[0m \u001b[0mkwargs\u001b[0m \u001b[1;33m=\u001b[0m \u001b[0mself\u001b[0m\u001b[1;33m.\u001b[0m\u001b[0m_maybe_define_function\u001b[0m\u001b[1;33m(\u001b[0m\u001b[0margs\u001b[0m\u001b[1;33m,\u001b[0m \u001b[0mkwargs\u001b[0m\u001b[1;33m)\u001b[0m\u001b[1;33m\u001b[0m\u001b[1;33m\u001b[0m\u001b[0m\n\u001b[1;32m-> 1823\u001b[1;33m     \u001b[1;32mreturn\u001b[0m \u001b[0mgraph_function\u001b[0m\u001b[1;33m.\u001b[0m\u001b[0m_filtered_call\u001b[0m\u001b[1;33m(\u001b[0m\u001b[0margs\u001b[0m\u001b[1;33m,\u001b[0m \u001b[0mkwargs\u001b[0m\u001b[1;33m)\u001b[0m  \u001b[1;31m# pylint: disable=protected-access\u001b[0m\u001b[1;33m\u001b[0m\u001b[1;33m\u001b[0m\u001b[0m\n\u001b[0m\u001b[0;32m   1824\u001b[0m \u001b[1;33m\u001b[0m\u001b[0m\n\u001b[0;32m   1825\u001b[0m   \u001b[1;33m@\u001b[0m\u001b[0mproperty\u001b[0m\u001b[1;33m\u001b[0m\u001b[1;33m\u001b[0m\u001b[0m\n",
      "\u001b[1;32m~\\AppData\\Local\\Continuum\\anaconda3\\lib\\site-packages\\tensorflow_core\\python\\eager\\function.py\u001b[0m in \u001b[0;36m_filtered_call\u001b[1;34m(self, args, kwargs)\u001b[0m\n\u001b[0;32m   1139\u001b[0m          if isinstance(t, (ops.Tensor,\n\u001b[0;32m   1140\u001b[0m                            resource_variable_ops.BaseResourceVariable))),\n\u001b[1;32m-> 1141\u001b[1;33m         self.captured_inputs)\n\u001b[0m\u001b[0;32m   1142\u001b[0m \u001b[1;33m\u001b[0m\u001b[0m\n\u001b[0;32m   1143\u001b[0m   \u001b[1;32mdef\u001b[0m \u001b[0m_call_flat\u001b[0m\u001b[1;33m(\u001b[0m\u001b[0mself\u001b[0m\u001b[1;33m,\u001b[0m \u001b[0margs\u001b[0m\u001b[1;33m,\u001b[0m \u001b[0mcaptured_inputs\u001b[0m\u001b[1;33m,\u001b[0m \u001b[0mcancellation_manager\u001b[0m\u001b[1;33m=\u001b[0m\u001b[1;32mNone\u001b[0m\u001b[1;33m)\u001b[0m\u001b[1;33m:\u001b[0m\u001b[1;33m\u001b[0m\u001b[1;33m\u001b[0m\u001b[0m\n",
      "\u001b[1;32m~\\AppData\\Local\\Continuum\\anaconda3\\lib\\site-packages\\tensorflow_core\\python\\eager\\function.py\u001b[0m in \u001b[0;36m_call_flat\u001b[1;34m(self, args, captured_inputs, cancellation_manager)\u001b[0m\n\u001b[0;32m   1222\u001b[0m     \u001b[1;32mif\u001b[0m \u001b[0mexecuting_eagerly\u001b[0m\u001b[1;33m:\u001b[0m\u001b[1;33m\u001b[0m\u001b[1;33m\u001b[0m\u001b[0m\n\u001b[0;32m   1223\u001b[0m       flat_outputs = forward_function.call(\n\u001b[1;32m-> 1224\u001b[1;33m           ctx, args, cancellation_manager=cancellation_manager)\n\u001b[0m\u001b[0;32m   1225\u001b[0m     \u001b[1;32melse\u001b[0m\u001b[1;33m:\u001b[0m\u001b[1;33m\u001b[0m\u001b[1;33m\u001b[0m\u001b[0m\n\u001b[0;32m   1226\u001b[0m       \u001b[0mgradient_name\u001b[0m \u001b[1;33m=\u001b[0m \u001b[0mself\u001b[0m\u001b[1;33m.\u001b[0m\u001b[0m_delayed_rewrite_functions\u001b[0m\u001b[1;33m.\u001b[0m\u001b[0mregister\u001b[0m\u001b[1;33m(\u001b[0m\u001b[1;33m)\u001b[0m\u001b[1;33m\u001b[0m\u001b[1;33m\u001b[0m\u001b[0m\n",
      "\u001b[1;32m~\\AppData\\Local\\Continuum\\anaconda3\\lib\\site-packages\\tensorflow_core\\python\\eager\\function.py\u001b[0m in \u001b[0;36mcall\u001b[1;34m(self, ctx, args, cancellation_manager)\u001b[0m\n\u001b[0;32m    509\u001b[0m               \u001b[0minputs\u001b[0m\u001b[1;33m=\u001b[0m\u001b[0margs\u001b[0m\u001b[1;33m,\u001b[0m\u001b[1;33m\u001b[0m\u001b[1;33m\u001b[0m\u001b[0m\n\u001b[0;32m    510\u001b[0m               \u001b[0mattrs\u001b[0m\u001b[1;33m=\u001b[0m\u001b[1;33m(\u001b[0m\u001b[1;34m\"executor_type\"\u001b[0m\u001b[1;33m,\u001b[0m \u001b[0mexecutor_type\u001b[0m\u001b[1;33m,\u001b[0m \u001b[1;34m\"config_proto\"\u001b[0m\u001b[1;33m,\u001b[0m \u001b[0mconfig\u001b[0m\u001b[1;33m)\u001b[0m\u001b[1;33m,\u001b[0m\u001b[1;33m\u001b[0m\u001b[1;33m\u001b[0m\u001b[0m\n\u001b[1;32m--> 511\u001b[1;33m               ctx=ctx)\n\u001b[0m\u001b[0;32m    512\u001b[0m         \u001b[1;32melse\u001b[0m\u001b[1;33m:\u001b[0m\u001b[1;33m\u001b[0m\u001b[1;33m\u001b[0m\u001b[0m\n\u001b[0;32m    513\u001b[0m           outputs = execute.execute_with_cancellation(\n",
      "\u001b[1;32m~\\AppData\\Local\\Continuum\\anaconda3\\lib\\site-packages\\tensorflow_core\\python\\eager\\execute.py\u001b[0m in \u001b[0;36mquick_execute\u001b[1;34m(op_name, num_outputs, inputs, attrs, ctx, name)\u001b[0m\n\u001b[0;32m     59\u001b[0m     tensors = pywrap_tensorflow.TFE_Py_Execute(ctx._handle, device_name,\n\u001b[0;32m     60\u001b[0m                                                \u001b[0mop_name\u001b[0m\u001b[1;33m,\u001b[0m \u001b[0minputs\u001b[0m\u001b[1;33m,\u001b[0m \u001b[0mattrs\u001b[0m\u001b[1;33m,\u001b[0m\u001b[1;33m\u001b[0m\u001b[1;33m\u001b[0m\u001b[0m\n\u001b[1;32m---> 61\u001b[1;33m                                                num_outputs)\n\u001b[0m\u001b[0;32m     62\u001b[0m   \u001b[1;32mexcept\u001b[0m \u001b[0mcore\u001b[0m\u001b[1;33m.\u001b[0m\u001b[0m_NotOkStatusException\u001b[0m \u001b[1;32mas\u001b[0m \u001b[0me\u001b[0m\u001b[1;33m:\u001b[0m\u001b[1;33m\u001b[0m\u001b[1;33m\u001b[0m\u001b[0m\n\u001b[0;32m     63\u001b[0m     \u001b[1;32mif\u001b[0m \u001b[0mname\u001b[0m \u001b[1;32mis\u001b[0m \u001b[1;32mnot\u001b[0m \u001b[1;32mNone\u001b[0m\u001b[1;33m:\u001b[0m\u001b[1;33m\u001b[0m\u001b[1;33m\u001b[0m\u001b[0m\n",
      "\u001b[1;31mKeyboardInterrupt\u001b[0m: "
     ]
    }
   ],
   "source": [
    "val_prop=1/6\n",
    "\n",
    "history = CNN_model.fit(x_train_resized,\n",
    "                        y_train_labels,\n",
    "                        epochs=5, #Vi tränar väldigt kort, endast 5 epochs, addera fler om du vill\n",
    "                        batch_size=256,\n",
    "                        validation_split=val_prop)"
   ]
  },
  {
   "cell_type": "markdown",
   "metadata": {},
   "source": [
    "När modeller tar längre tid att träna är det viktigt att spara ned dem"
   ]
  },
  {
   "cell_type": "code",
   "execution_count": null,
   "metadata": {},
   "outputs": [],
   "source": [
    "CNN_model.save('MNIST_CNN_V1.h5')"
   ]
  },
  {
   "cell_type": "code",
   "execution_count": null,
   "metadata": {},
   "outputs": [],
   "source": [
    "# Spara ned träningshistoriken\n",
    "import pickle\n",
    "with open('MNIST_CNN_V1_hist', 'wb') as file_pi:\n",
    "    pickle.dump(history.history, file_pi)"
   ]
  },
  {
   "cell_type": "markdown",
   "metadata": {},
   "source": [
    "##### Ladda in förtränad model\n",
    "\n",
    "Eftersom att vi inte hinner träna vår modell särskilt länge under vår övningsdag, kan vi här ladda in en förtränad modell och dess historik"
   ]
  },
  {
   "cell_type": "code",
   "execution_count": 58,
   "metadata": {},
   "outputs": [
    {
     "ename": "UnimplementedError",
     "evalue": "File system scheme 'http' not implemented (file: 'http://github.com/DavidRyden/block5-2020sept/blob/master/MNIST_CNN_V1_100_epochs.h5?raw=true\\saved_model.pb')",
     "output_type": "error",
     "traceback": [
      "\u001b[1;31m---------------------------------------------------------------------------\u001b[0m",
      "\u001b[1;31mUnimplementedError\u001b[0m                        Traceback (most recent call last)",
      "\u001b[1;32m<ipython-input-58-3b2b978072a7>\u001b[0m in \u001b[0;36m<module>\u001b[1;34m\u001b[0m\n\u001b[0;32m      5\u001b[0m \u001b[1;33m\u001b[0m\u001b[0m\n\u001b[0;32m      6\u001b[0m \u001b[1;31m# Ladda in förtränad model\u001b[0m\u001b[1;33m\u001b[0m\u001b[1;33m\u001b[0m\u001b[1;33m\u001b[0m\u001b[0m\n\u001b[1;32m----> 7\u001b[1;33m \u001b[0mCNN_model_pretrain\u001b[0m \u001b[1;33m=\u001b[0m \u001b[0mload_model\u001b[0m\u001b[1;33m(\u001b[0m\u001b[0murl_pickle\u001b[0m\u001b[1;33m)\u001b[0m \u001b[1;31m#load_model('MNIST_CNN_V1_100_epochs.h5')\u001b[0m\u001b[1;33m\u001b[0m\u001b[1;33m\u001b[0m\u001b[0m\n\u001b[0m\u001b[0;32m      8\u001b[0m \u001b[1;33m\u001b[0m\u001b[0m\n\u001b[0;32m      9\u001b[0m \u001b[1;31m# Ladda in historiken för förtränad model\u001b[0m\u001b[1;33m\u001b[0m\u001b[1;33m\u001b[0m\u001b[1;33m\u001b[0m\u001b[0m\n",
      "\u001b[1;32m~\\AppData\\Local\\Continuum\\anaconda3\\lib\\site-packages\\tensorflow_core\\python\\keras\\saving\\save.py\u001b[0m in \u001b[0;36mload_model\u001b[1;34m(filepath, custom_objects, compile)\u001b[0m\n\u001b[0;32m    147\u001b[0m \u001b[1;33m\u001b[0m\u001b[0m\n\u001b[0;32m    148\u001b[0m   \u001b[1;32mif\u001b[0m \u001b[0misinstance\u001b[0m\u001b[1;33m(\u001b[0m\u001b[0mfilepath\u001b[0m\u001b[1;33m,\u001b[0m \u001b[0msix\u001b[0m\u001b[1;33m.\u001b[0m\u001b[0mstring_types\u001b[0m\u001b[1;33m)\u001b[0m\u001b[1;33m:\u001b[0m\u001b[1;33m\u001b[0m\u001b[1;33m\u001b[0m\u001b[0m\n\u001b[1;32m--> 149\u001b[1;33m     \u001b[0mloader_impl\u001b[0m\u001b[1;33m.\u001b[0m\u001b[0mparse_saved_model\u001b[0m\u001b[1;33m(\u001b[0m\u001b[0mfilepath\u001b[0m\u001b[1;33m)\u001b[0m\u001b[1;33m\u001b[0m\u001b[1;33m\u001b[0m\u001b[0m\n\u001b[0m\u001b[0;32m    150\u001b[0m     \u001b[1;32mreturn\u001b[0m \u001b[0msaved_model_load\u001b[0m\u001b[1;33m.\u001b[0m\u001b[0mload\u001b[0m\u001b[1;33m(\u001b[0m\u001b[0mfilepath\u001b[0m\u001b[1;33m,\u001b[0m \u001b[0mcompile\u001b[0m\u001b[1;33m)\u001b[0m\u001b[1;33m\u001b[0m\u001b[1;33m\u001b[0m\u001b[0m\n\u001b[0;32m    151\u001b[0m \u001b[1;33m\u001b[0m\u001b[0m\n",
      "\u001b[1;32m~\\AppData\\Local\\Continuum\\anaconda3\\lib\\site-packages\\tensorflow_core\\python\\saved_model\\loader_impl.py\u001b[0m in \u001b[0;36mparse_saved_model\u001b[1;34m(export_dir)\u001b[0m\n\u001b[0;32m     63\u001b[0m   \u001b[1;31m# Parse the SavedModel protocol buffer.\u001b[0m\u001b[1;33m\u001b[0m\u001b[1;33m\u001b[0m\u001b[1;33m\u001b[0m\u001b[0m\n\u001b[0;32m     64\u001b[0m   \u001b[0msaved_model\u001b[0m \u001b[1;33m=\u001b[0m \u001b[0msaved_model_pb2\u001b[0m\u001b[1;33m.\u001b[0m\u001b[0mSavedModel\u001b[0m\u001b[1;33m(\u001b[0m\u001b[1;33m)\u001b[0m\u001b[1;33m\u001b[0m\u001b[1;33m\u001b[0m\u001b[0m\n\u001b[1;32m---> 65\u001b[1;33m   \u001b[1;32mif\u001b[0m \u001b[0mfile_io\u001b[0m\u001b[1;33m.\u001b[0m\u001b[0mfile_exists\u001b[0m\u001b[1;33m(\u001b[0m\u001b[0mpath_to_pb\u001b[0m\u001b[1;33m)\u001b[0m\u001b[1;33m:\u001b[0m\u001b[1;33m\u001b[0m\u001b[1;33m\u001b[0m\u001b[0m\n\u001b[0m\u001b[0;32m     66\u001b[0m     \u001b[1;32mtry\u001b[0m\u001b[1;33m:\u001b[0m\u001b[1;33m\u001b[0m\u001b[1;33m\u001b[0m\u001b[0m\n\u001b[0;32m     67\u001b[0m       \u001b[0mfile_content\u001b[0m \u001b[1;33m=\u001b[0m \u001b[0mfile_io\u001b[0m\u001b[1;33m.\u001b[0m\u001b[0mFileIO\u001b[0m\u001b[1;33m(\u001b[0m\u001b[0mpath_to_pb\u001b[0m\u001b[1;33m,\u001b[0m \u001b[1;34m\"rb\"\u001b[0m\u001b[1;33m)\u001b[0m\u001b[1;33m.\u001b[0m\u001b[0mread\u001b[0m\u001b[1;33m(\u001b[0m\u001b[1;33m)\u001b[0m\u001b[1;33m\u001b[0m\u001b[1;33m\u001b[0m\u001b[0m\n",
      "\u001b[1;32m~\\AppData\\Local\\Continuum\\anaconda3\\lib\\site-packages\\tensorflow_core\\python\\lib\\io\\file_io.py\u001b[0m in \u001b[0;36mfile_exists\u001b[1;34m(filename)\u001b[0m\n\u001b[0;32m    260\u001b[0m     \u001b[0merrors\u001b[0m\u001b[1;33m.\u001b[0m\u001b[0mOpError\u001b[0m\u001b[1;33m:\u001b[0m \u001b[0mPropagates\u001b[0m \u001b[0many\u001b[0m \u001b[0merrors\u001b[0m \u001b[0mreported\u001b[0m \u001b[0mby\u001b[0m \u001b[0mthe\u001b[0m \u001b[0mFileSystem\u001b[0m \u001b[0mAPI\u001b[0m\u001b[1;33m.\u001b[0m\u001b[1;33m\u001b[0m\u001b[1;33m\u001b[0m\u001b[0m\n\u001b[0;32m    261\u001b[0m   \"\"\"\n\u001b[1;32m--> 262\u001b[1;33m   \u001b[1;32mreturn\u001b[0m \u001b[0mfile_exists_v2\u001b[0m\u001b[1;33m(\u001b[0m\u001b[0mfilename\u001b[0m\u001b[1;33m)\u001b[0m\u001b[1;33m\u001b[0m\u001b[1;33m\u001b[0m\u001b[0m\n\u001b[0m\u001b[0;32m    263\u001b[0m \u001b[1;33m\u001b[0m\u001b[0m\n\u001b[0;32m    264\u001b[0m \u001b[1;33m\u001b[0m\u001b[0m\n",
      "\u001b[1;32m~\\AppData\\Local\\Continuum\\anaconda3\\lib\\site-packages\\tensorflow_core\\python\\lib\\io\\file_io.py\u001b[0m in \u001b[0;36mfile_exists_v2\u001b[1;34m(path)\u001b[0m\n\u001b[0;32m    278\u001b[0m   \"\"\"\n\u001b[0;32m    279\u001b[0m   \u001b[1;32mtry\u001b[0m\u001b[1;33m:\u001b[0m\u001b[1;33m\u001b[0m\u001b[1;33m\u001b[0m\u001b[0m\n\u001b[1;32m--> 280\u001b[1;33m     \u001b[0mpywrap_tensorflow\u001b[0m\u001b[1;33m.\u001b[0m\u001b[0mFileExists\u001b[0m\u001b[1;33m(\u001b[0m\u001b[0mcompat\u001b[0m\u001b[1;33m.\u001b[0m\u001b[0mas_bytes\u001b[0m\u001b[1;33m(\u001b[0m\u001b[0mpath\u001b[0m\u001b[1;33m)\u001b[0m\u001b[1;33m)\u001b[0m\u001b[1;33m\u001b[0m\u001b[1;33m\u001b[0m\u001b[0m\n\u001b[0m\u001b[0;32m    281\u001b[0m   \u001b[1;32mexcept\u001b[0m \u001b[0merrors\u001b[0m\u001b[1;33m.\u001b[0m\u001b[0mNotFoundError\u001b[0m\u001b[1;33m:\u001b[0m\u001b[1;33m\u001b[0m\u001b[1;33m\u001b[0m\u001b[0m\n\u001b[0;32m    282\u001b[0m     \u001b[1;32mreturn\u001b[0m \u001b[1;32mFalse\u001b[0m\u001b[1;33m\u001b[0m\u001b[1;33m\u001b[0m\u001b[0m\n",
      "\u001b[1;31mUnimplementedError\u001b[0m: File system scheme 'http' not implemented (file: 'http://github.com/DavidRyden/block5-2020sept/blob/master/MNIST_CNN_V1_100_epochs.h5?raw=true\\saved_model.pb')"
     ]
    }
   ],
   "source": [
    "from tensorflow.keras.models import load_model\n",
    "import pickle\n",
    " \n",
    "# Ladda in förtränad model\n",
    "CNN_model_pretrain = load_model('block5-2020sept/MNIST_CNN_V1_100_epochs.h5')\n",
    "\n",
    "# Ladda in historiken för förtränad model\n",
    "\n",
    "with open('block5-2020sept/MNIST_CNN_V1_100_epochs_hist', 'rb') as f:\n",
    "    # load using pickle de-serializer\n",
    "    history_pretrain = pickle.load(f)"
   ]
  },
  {
   "cell_type": "markdown",
   "metadata": {},
   "source": [
    "#### Modellutvärdering\n",
    "\n",
    "- Vi utvärderar nu hur bra modellen tränar på träningsdata och generaliserar på Valideringsdata\n",
    "- Är vi inte nöjda med modellen kan man lägga justerar vi den och tränar återigen\n",
    "- När vi sedan är nöjda utvärderar vi modellen en sista gång på test-data\n"
   ]
  },
  {
   "cell_type": "code",
   "execution_count": null,
   "metadata": {
    "scrolled": false
   },
   "outputs": [],
   "source": [
    "plot_training(history.history)"
   ]
  },
  {
   "cell_type": "markdown",
   "metadata": {},
   "source": [
    "#### Historik för vårt förtränade nätverk\n",
    "\n",
    "- Med vårt förtränade nätverk når vi högre accuracy då det fått träna längre"
   ]
  },
  {
   "cell_type": "code",
   "execution_count": null,
   "metadata": {},
   "outputs": [],
   "source": [
    "plot_training(history_pretrain )"
   ]
  },
  {
   "cell_type": "markdown",
   "metadata": {},
   "source": [
    ". "
   ]
  },
  {
   "cell_type": "markdown",
   "metadata": {},
   "source": [
    " ##### Utvärdera på test-data\n",
    "\n",
    "För att undersöka hur väl modellen generaliserar på data den inte tränar på, och vi inte heller försökt optimera generaliserbarheten, utvärderar vi modellen på test-datasetet\n",
    "\n",
    "##### Vår egen träning"
   ]
  },
  {
   "cell_type": "code",
   "execution_count": null,
   "metadata": {},
   "outputs": [],
   "source": [
    "#Predicerar på test-data\n",
    "test_loss, test_acc = CNN_model.evaluate(x_test_resized, y_test_labels, verbose=0)\n",
    "\n",
    "print('test accuracy:', test_acc)"
   ]
  },
  {
   "cell_type": "markdown",
   "metadata": {},
   "source": [
    "#### Förtränad modell\n"
   ]
  },
  {
   "cell_type": "code",
   "execution_count": null,
   "metadata": {},
   "outputs": [],
   "source": [
    "#Predicerar på test-data\n",
    "test_loss_pre, test_acc_pre = CNN_model_pretrain.evaluate(x_test_resized, y_test_labels, verbose=0)\n",
    "\n",
    "print('test accuracy:', test_acc_pre)"
   ]
  },
  {
   "cell_type": "markdown",
   "metadata": {},
   "source": [
    "##### Slutsats - Convolutional neural network\n",
    "\n",
    "- Vi uppnår högre accuracy med CNN än enkelt Dense nätverk\n",
    "- MNIST klarar sig bra med enkelt Dense nätverk, vid komplexare problem är CNN betydligt kraftfullare traditionella nätverk med enbart Dense-lager"
   ]
  },
  {
   "cell_type": "markdown",
   "metadata": {},
   "source": [
    "."
   ]
  },
  {
   "cell_type": "code",
   "execution_count": null,
   "metadata": {},
   "outputs": [],
   "source": []
  }
 ],
 "metadata": {
  "kernelspec": {
   "display_name": "Python 3",
   "language": "python",
   "name": "python3"
  },
  "language_info": {
   "codemirror_mode": {
    "name": "ipython",
    "version": 3
   },
   "file_extension": ".py",
   "mimetype": "text/x-python",
   "name": "python",
   "nbconvert_exporter": "python",
   "pygments_lexer": "ipython3",
   "version": "3.7.3"
  }
 },
 "nbformat": 4,
 "nbformat_minor": 2
}
